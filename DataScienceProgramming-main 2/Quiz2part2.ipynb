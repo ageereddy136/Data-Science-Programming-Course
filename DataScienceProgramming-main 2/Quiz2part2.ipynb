{
 "cells": [
  {
   "cell_type": "code",
   "execution_count": 1,
   "id": "be1e43c6",
   "metadata": {},
   "outputs": [],
   "source": [
    "#Question2 :\n",
    "import matplotlib\n",
    "import matplotlib.pyplot as plt\n",
    "import numpy as np\n",
    "import pandas as pd\n",
    "import sklearn"
   ]
  },
  {
   "cell_type": "code",
   "execution_count": 2,
   "id": "59de852f",
   "metadata": {},
   "outputs": [],
   "source": [
    "# importing the mnist data set \n",
    "try:\n",
    "    from sklearn.datasets import fetch_openml\n",
    "    mnist = fetch_openml('mnist_784', version=1, cache=True)\n",
    "    mnist.target = mnist.target.astype(np.int8) # fetch_openml() returns targets as strings\n",
    "    #sort_by_target(mnist) # fetch_openml() returns an unsorted dataset\n",
    "except ImportError:\n",
    "    from sklearn.datasets import fetch_mldata\n",
    "    mnist = fetch_mldata('MNIST original')"
   ]
  },
  {
   "cell_type": "code",
   "execution_count": 3,
   "id": "2cac6071",
   "metadata": {},
   "outputs": [
    {
     "name": "stdout",
     "output_type": "stream",
     "text": [
      "<class 'sklearn.utils.Bunch'>\n"
     ]
    }
   ],
   "source": [
    "print(type(mnist))"
   ]
  },
  {
   "cell_type": "code",
   "execution_count": 8,
   "id": "28ea7b3b",
   "metadata": {},
   "outputs": [],
   "source": [
    "X, y = mnist[\"data\"], mnist[\"target\"]"
   ]
  },
  {
   "cell_type": "code",
   "execution_count": 9,
   "id": "785cd79d",
   "metadata": {},
   "outputs": [
    {
     "data": {
      "text/plain": [
       "(numpy.ndarray, numpy.ndarray)"
      ]
     },
     "execution_count": 9,
     "metadata": {},
     "output_type": "execute_result"
    }
   ],
   "source": [
    "# checking the type of x and y and they should be numpy\n",
    "type(X), type(y)\n",
    "#X = X1.to_numpy()\n",
    "#y = y1.to_numpy()\n",
    "#type(X), type(y)"
   ]
  },
  {
   "cell_type": "code",
   "execution_count": 10,
   "id": "e22304f3",
   "metadata": {},
   "outputs": [
    {
     "data": {
      "text/plain": [
       "((70000, 784), (70000,))"
      ]
     },
     "execution_count": 10,
     "metadata": {},
     "output_type": "execute_result"
    }
   ],
   "source": [
    "X.shape, y.shape"
   ]
  },
  {
   "cell_type": "code",
   "execution_count": 11,
   "id": "17002da7",
   "metadata": {},
   "outputs": [],
   "source": [
    "#selecting data from the 70000 data of mnist\n",
    "X_train, X_test, y_train, y_test = X[:60000], X[60000:],y[:60000], y[60000:]"
   ]
  },
  {
   "cell_type": "code",
   "execution_count": 12,
   "id": "258d60a3",
   "metadata": {},
   "outputs": [
    {
     "data": {
      "text/plain": [
       "(numpy.ndarray, numpy.ndarray)"
      ]
     },
     "execution_count": 12,
     "metadata": {},
     "output_type": "execute_result"
    }
   ],
   "source": [
    "shuffle_index=np.random.permutation(60000)\n",
    "type(X_train), type(y_train)"
   ]
  },
  {
   "cell_type": "code",
   "execution_count": 16,
   "id": "2efd49b9",
   "metadata": {},
   "outputs": [],
   "source": [
    "#Creating train dataset for 1k random data\n",
    "X_train, y_train = X_train[shuffle_index], y_train[shuffle_index]\n",
    "X_train_sample1,y_train_sample1 = X_train[:1000],y_train[:1000]"
   ]
  },
  {
   "cell_type": "code",
   "execution_count": 17,
   "id": "55b37585",
   "metadata": {},
   "outputs": [],
   "source": [
    "#Creating train dataset for 5k random data\n",
    "X_train, y_train = X_train[shuffle_index], y_train[shuffle_index]\n",
    "X_train_sample2,y_train_sample2 = X_train[:5000],y_train[:5000]"
   ]
  },
  {
   "cell_type": "code",
   "execution_count": 18,
   "id": "194eab09",
   "metadata": {},
   "outputs": [],
   "source": [
    "# test dataset with random 2k\n",
    "shuffle_index2 = np.random.permutation(10000)\n",
    "X_test,y_test = X_test[shuffle_index2],y_test[shuffle_index2]\n",
    "X_test_sample,y_test_sample = X_test[:2000],y_test[:2000]"
   ]
  },
  {
   "cell_type": "code",
   "execution_count": 36,
   "id": "06f51bee",
   "metadata": {},
   "outputs": [
    {
     "name": "stdout",
     "output_type": "stream",
     "text": [
      "[9 9 9 1 6 5 3 2 1 2 5 6 5 6 8 6 2 0 4 6 5 9 4 8 4 9 2 2 3 4]\n"
     ]
    }
   ],
   "source": [
    "# y train and test for 1k train data set\n",
    "print(y_train_sample[:30])\n",
    "y_train_2_1 = (y_train_sample1 == 2) \n",
    "y_test_2_1 = (y_test_sample == 2) "
   ]
  },
  {
   "cell_type": "code",
   "execution_count": 37,
   "id": "3b79aa88",
   "metadata": {},
   "outputs": [
    {
     "name": "stdout",
     "output_type": "stream",
     "text": [
      "[9 9 9 1 6 5 3 2 1 2 5 6 5 6 8 6 2 0 4 6 5 9 4 8 4 9 2 2 3 4]\n"
     ]
    }
   ],
   "source": [
    "# train and test for 5k training data set\n",
    "print(y_train_sample[:30])\n",
    "y_train_2_5 = (y_train_sample2 == 2) \n",
    "y_test_2_5 = (y_test_sample == 2) "
   ]
  },
  {
   "cell_type": "code",
   "execution_count": 38,
   "id": "3a6f2a8c",
   "metadata": {},
   "outputs": [
    {
     "data": {
      "text/plain": [
       "array([False, False, False, False,  True, False, False, False, False,\n",
       "       False, False, False, False, False, False])"
      ]
     },
     "execution_count": 38,
     "metadata": {},
     "output_type": "execute_result"
    }
   ],
   "source": [
    "# SGD for traing data with 1 k\n",
    "from sklearn.linear_model import SGDClassifier\n",
    "sgd_1 = SGDClassifier(random_state=42)\n",
    "sgd_1 = sgd_1.fit(X_train_sample1,y_train_2_1)\n",
    "sgd_1.predict(X_test_sample[:15])"
   ]
  },
  {
   "cell_type": "code",
   "execution_count": 39,
   "id": "b3dbfd35",
   "metadata": {},
   "outputs": [
    {
     "data": {
      "text/plain": [
       "array([False, False, False, False,  True, False, False, False, False,\n",
       "       False, False, False, False, False, False])"
      ]
     },
     "execution_count": 39,
     "metadata": {},
     "output_type": "execute_result"
    }
   ],
   "source": [
    "# SGD for traing data with 5k\n",
    "from sklearn.linear_model import SGDClassifier\n",
    "sgd_5 = SGDClassifier(random_state=50)\n",
    "sgd_5 = sgd_5.fit(X_train_sample2,y_train_2_5)\n",
    "sgd_5.predict(X_test_sample[:15])"
   ]
  },
  {
   "cell_type": "code",
   "execution_count": 40,
   "id": "4599eac0",
   "metadata": {},
   "outputs": [],
   "source": [
    "from sklearn.model_selection import cross_val_predict\n",
    "y_test_1_pred = cross_val_predict(sgd_1, X_test_sample, y_test_2_1, cv=3)"
   ]
  },
  {
   "cell_type": "code",
   "execution_count": 41,
   "id": "74a9e6d4",
   "metadata": {},
   "outputs": [
    {
     "data": {
      "text/plain": [
       "array([[1763,   34],\n",
       "       [  43,  160]])"
      ]
     },
     "execution_count": 41,
     "metadata": {},
     "output_type": "execute_result"
    }
   ],
   "source": [
    "# confusion matrix for 5 data set\n",
    "from sklearn.metrics import confusion_matrix\n",
    "confusion_matrix(y_test_2_1, y_test_1_pred) # actual vs predicted"
   ]
  },
  {
   "cell_type": "code",
   "execution_count": 42,
   "id": "56f4a80f",
   "metadata": {},
   "outputs": [],
   "source": [
    "#from sklearn.model_selection import cross_val_predict\n",
    "#y_test_5_pred = cross_val_predict(sgd_5, X_test_sample, y_test_2_5, cv=3)"
   ]
  },
  {
   "cell_type": "code",
   "execution_count": 43,
   "id": "9c72d9a8",
   "metadata": {},
   "outputs": [
    {
     "data": {
      "text/plain": [
       "array([[1763,   34],\n",
       "       [  36,  167]])"
      ]
     },
     "execution_count": 43,
     "metadata": {},
     "output_type": "execute_result"
    }
   ],
   "source": [
    "# confusion matrix for 5 training data set\n",
    "y_test_5_pred = cross_val_predict(sgd_5, X_test_sample, y_test_2_5, cv=3)\n",
    "confusion_matrix(y_test_2_5, y_test_5_pred) # actual vs predicted"
   ]
  },
  {
   "cell_type": "markdown",
   "id": "44e67f99",
   "metadata": {},
   "source": [
    "# Inference : From the above both confusion matrix of the 1k train data and 5k train data we can see that the confusion matrix for the training data set with 5k has more true positives than the confusion matrix with 1k train data set. As both the data sets are to predict for 2 image. The true positive rate for the second model is good. But just by the confusion matrix we can predict the accuracy of the model as the possibilty can be that the 5k data might have more images with 2. "
   ]
  }
 ],
 "metadata": {
  "kernelspec": {
   "display_name": "Python 3",
   "language": "python",
   "name": "python3"
  },
  "language_info": {
   "codemirror_mode": {
    "name": "ipython",
    "version": 3
   },
   "file_extension": ".py",
   "mimetype": "text/x-python",
   "name": "python",
   "nbconvert_exporter": "python",
   "pygments_lexer": "ipython3",
   "version": "3.8.8"
  }
 },
 "nbformat": 4,
 "nbformat_minor": 5
}
