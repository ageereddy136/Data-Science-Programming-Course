{
 "cells": [
  {
   "cell_type": "code",
   "execution_count": 1,
   "metadata": {},
   "outputs": [],
   "source": [
    "from __future__ import print_function\n",
    "from matplotlib import pyplot as plt\n",
    "from tensorflow import keras\n",
    "from sklearn.metrics import confusion_matrix\n",
    "from keras import backend as K\n",
    "from keras.datasets import mnist\n",
    "from keras.models import Sequential,model_from_json\n",
    "from keras.layers import Dense, Dropout, Flatten\n",
    "from keras.layers import Conv2D, MaxPooling2D\n",
    "from tensorflow.keras.optimizers import RMSprop"
   ]
  },
  {
   "cell_type": "code",
   "execution_count": 2,
   "metadata": {},
   "outputs": [],
   "source": [
    "# the data, split between train and test sets\n",
    "(x_train, y_train), (x_test, y_test) = mnist.load_data()\n"
   ]
  },
  {
   "cell_type": "code",
   "execution_count": 3,
   "metadata": {},
   "outputs": [
    {
     "name": "stdout",
     "output_type": "stream",
     "text": [
      "60000 train samples\n",
      "10000 test samples\n"
     ]
    }
   ],
   "source": [
    "x_train = x_train.reshape(60000, 784)\n",
    "x_test = x_test.reshape(10000, 784)\n",
    "x_train = x_train.astype('float32')\n",
    "x_test = x_test.astype('float32')\n",
    "x_train /= 255\n",
    "x_test /= 255\n",
    "print(x_train.shape[0], 'train samples')\n",
    "print(x_test.shape[0], 'test samples')"
   ]
  },
  {
   "cell_type": "code",
   "execution_count": 4,
   "metadata": {},
   "outputs": [],
   "source": [
    "\n",
    "y_train = keras.utils.to_categorical(y_train, 10)\n",
    "y_test = keras.utils.to_categorical(y_test, 10)"
   ]
  },
  {
   "cell_type": "code",
   "execution_count": 5,
   "metadata": {},
   "outputs": [],
   "source": [
    "model = Sequential()\n",
    "model.add(Dense(400, activation='relu', input_shape=(784,)))\n",
    "model.add(Dropout(0.2))\n",
    "model.add(Dense(300, activation='relu'))\n",
    "model.add(Dropout(0.2))\n",
    "model.add(Dense(10, activation='softmax'))"
   ]
  },
  {
   "cell_type": "code",
   "execution_count": 6,
   "metadata": {},
   "outputs": [],
   "source": [
    "model.compile(loss='categorical_crossentropy',\n",
    "              optimizer=RMSprop(),\n",
    "              metrics=['accuracy'])"
   ]
  },
  {
   "cell_type": "code",
   "execution_count": 7,
   "metadata": {},
   "outputs": [],
   "source": [
    "batch_size = 128\n",
    "num_classes = 10\n",
    "epochs = 20"
   ]
  },
  {
   "cell_type": "code",
   "execution_count": 8,
   "metadata": {},
   "outputs": [
    {
     "name": "stdout",
     "output_type": "stream",
     "text": [
      "Epoch 1/20\n",
      "469/469 [==============================] - 18s 35ms/step - loss: 0.2643 - accuracy: 0.9201 - val_loss: 0.1212 - val_accuracy: 0.9609\n",
      "Epoch 2/20\n",
      "469/469 [==============================] - 15s 31ms/step - loss: 0.1123 - accuracy: 0.9664 - val_loss: 0.0797 - val_accuracy: 0.9749\n",
      "Epoch 3/20\n",
      "469/469 [==============================] - 14s 30ms/step - loss: 0.0815 - accuracy: 0.9748 - val_loss: 0.0800 - val_accuracy: 0.9742\n",
      "Epoch 4/20\n",
      "469/469 [==============================] - 6s 13ms/step - loss: 0.0657 - accuracy: 0.9806 - val_loss: 0.0689 - val_accuracy: 0.9799\n",
      "Epoch 5/20\n",
      "469/469 [==============================] - 6s 13ms/step - loss: 0.0561 - accuracy: 0.9835 - val_loss: 0.0689 - val_accuracy: 0.9814\n",
      "Epoch 6/20\n",
      "469/469 [==============================] - 7s 15ms/step - loss: 0.0485 - accuracy: 0.9853 - val_loss: 0.0730 - val_accuracy: 0.9822\n",
      "Epoch 7/20\n",
      "469/469 [==============================] - 6s 13ms/step - loss: 0.0422 - accuracy: 0.9872 - val_loss: 0.0774 - val_accuracy: 0.9793\n",
      "Epoch 8/20\n",
      "469/469 [==============================] - 6s 13ms/step - loss: 0.0367 - accuracy: 0.9888 - val_loss: 0.0858 - val_accuracy: 0.9812\n",
      "Epoch 9/20\n",
      "469/469 [==============================] - 6s 12ms/step - loss: 0.0329 - accuracy: 0.9901 - val_loss: 0.0750 - val_accuracy: 0.9820\n",
      "Epoch 10/20\n",
      "469/469 [==============================] - 6s 12ms/step - loss: 0.0310 - accuracy: 0.9904 - val_loss: 0.0807 - val_accuracy: 0.9811\n",
      "Epoch 11/20\n",
      "469/469 [==============================] - 6s 13ms/step - loss: 0.0280 - accuracy: 0.9917 - val_loss: 0.0900 - val_accuracy: 0.9825\n",
      "Epoch 12/20\n",
      "469/469 [==============================] - 6s 13ms/step - loss: 0.0277 - accuracy: 0.9917 - val_loss: 0.0882 - val_accuracy: 0.9824\n",
      "Epoch 13/20\n",
      "469/469 [==============================] - 6s 13ms/step - loss: 0.0256 - accuracy: 0.9920 - val_loss: 0.0916 - val_accuracy: 0.9811\n",
      "Epoch 14/20\n",
      "469/469 [==============================] - 6s 13ms/step - loss: 0.0246 - accuracy: 0.9930 - val_loss: 0.1027 - val_accuracy: 0.9815\n",
      "Epoch 15/20\n",
      "469/469 [==============================] - 6s 13ms/step - loss: 0.0223 - accuracy: 0.9937 - val_loss: 0.0896 - val_accuracy: 0.9814\n",
      "Epoch 16/20\n",
      "469/469 [==============================] - 6s 13ms/step - loss: 0.0206 - accuracy: 0.9942 - val_loss: 0.1055 - val_accuracy: 0.9810\n",
      "Epoch 17/20\n",
      "469/469 [==============================] - 6s 13ms/step - loss: 0.0217 - accuracy: 0.9939 - val_loss: 0.0913 - val_accuracy: 0.9835\n",
      "Epoch 18/20\n",
      "469/469 [==============================] - 6s 13ms/step - loss: 0.0175 - accuracy: 0.9950 - val_loss: 0.1035 - val_accuracy: 0.9822\n",
      "Epoch 19/20\n",
      "469/469 [==============================] - 8s 18ms/step - loss: 0.0191 - accuracy: 0.9942 - val_loss: 0.1169 - val_accuracy: 0.9809\n",
      "Epoch 20/20\n",
      "469/469 [==============================] - 6s 13ms/step - loss: 0.0168 - accuracy: 0.9953 - val_loss: 0.1199 - val_accuracy: 0.9826\n"
     ]
    }
   ],
   "source": [
    "history = model.fit(x_train, y_train,\n",
    "                    batch_size=batch_size,\n",
    "                    epochs=epochs,\n",
    "                    verbose=1,\n",
    "                    validation_data=(x_test, y_test))"
   ]
  },
  {
   "cell_type": "code",
   "execution_count": 9,
   "metadata": {},
   "outputs": [
    {
     "name": "stdout",
     "output_type": "stream",
     "text": [
      "Test loss: 0.11991069465875626\n",
      "Test accuracy: 0.9825999736785889\n",
      "dict_keys(['loss', 'accuracy', 'val_loss', 'val_accuracy'])\n"
     ]
    }
   ],
   "source": [
    "score = model.evaluate(x_test, y_test, verbose=0)\n",
    "print('Test loss:', score[0])\n",
    "print('Test accuracy:', score[1])\n",
    "print(history.history.keys())"
   ]
  },
  {
   "cell_type": "code",
   "execution_count": 10,
   "metadata": {},
   "outputs": [
    {
     "data": {
      "image/png": "[encoded data removed]",
      "text/plain": [
       "<Figure size 432x288 with 1 Axes>"
      ]
     },
     "metadata": {
      "needs_background": "light"
     },
     "output_type": "display_data"
    }
   ],
   "source": [
    "plt.plot(history.history['accuracy'])\n",
    "plt.plot(history.history['val_accuracy'])\n",
    "plt.title('model accuracy')\n",
    "plt.ylabel('accuracy')\n",
    "plt.xlabel('epoch')\n",
    "plt.legend(['train', 'test'], loc='lower right')\n",
    "plt.show()"
   ]
  },
  {
   "cell_type": "code",
   "execution_count": 11,
   "metadata": {},
   "outputs": [],
   "source": [
    "# Second Model"
   ]
  },
  {
   "cell_type": "code",
   "execution_count": 12,
   "metadata": {},
   "outputs": [
    {
     "name": "stdout",
     "output_type": "stream",
     "text": [
      "Model: \"sequential_1\"\n",
      "_________________________________________________________________\n",
      "Layer (type)                 Output Shape              Param #   \n",
      "=================================================================\n",
      "dense_3 (Dense)              (None, 300)               235500    \n",
      "_________________________________________________________________\n",
      "dropout_2 (Dropout)          (None, 300)               0         \n",
      "_________________________________________________________________\n",
      "dense_4 (Dense)              (None, 200)               60200     \n",
      "_________________________________________________________________\n",
      "dropout_3 (Dropout)          (None, 200)               0         \n",
      "_________________________________________________________________\n",
      "dense_5 (Dense)              (None, 100)               20100     \n",
      "_________________________________________________________________\n",
      "dropout_4 (Dropout)          (None, 100)               0         \n",
      "_________________________________________________________________\n",
      "dense_6 (Dense)              (None, 10)                1010      \n",
      "=================================================================\n",
      "Total params: 316,810\n",
      "Trainable params: 316,810\n",
      "Non-trainable params: 0\n",
      "_________________________________________________________________\n"
     ]
    }
   ],
   "source": [
    "model = Sequential()\n",
    "model.add(Dense(300, activation='relu', input_shape=(784,)))\n",
    "model.add(Dropout(0.5))\n",
    "model.add(Dense(200, activation='relu'))\n",
    "model.add(Dropout(0.5))\n",
    "model.add(Dense(100, activation='relu'))\n",
    "model.add(Dropout(0.5))\n",
    "model.add(Dense(10, activation='softmax'))\n",
    "\n",
    "model.summary()\n",
    "\n",
    "model.compile(loss='categorical_crossentropy',\n",
    "              optimizer=RMSprop(),\n",
    "              metrics=['accuracy'])"
   ]
  },
  {
   "cell_type": "code",
   "execution_count": 13,
   "metadata": {},
   "outputs": [
    {
     "name": "stdout",
     "output_type": "stream",
     "text": [
      "Epoch 1/20\n",
      "469/469 [==============================] - 6s 11ms/step - loss: 0.6000 - accuracy: 0.8134 - val_loss: 0.2001 - val_accuracy: 0.9417\n",
      "Epoch 2/20\n",
      "469/469 [==============================] - 5s 11ms/step - loss: 0.2693 - accuracy: 0.9290 - val_loss: 0.1430 - val_accuracy: 0.9595\n",
      "Epoch 3/20\n",
      "469/469 [==============================] - 7s 15ms/step - loss: 0.2167 - accuracy: 0.9448 - val_loss: 0.1330 - val_accuracy: 0.9659\n",
      "Epoch 4/20\n",
      "469/469 [==============================] - 6s 14ms/step - loss: 0.1868 - accuracy: 0.9527 - val_loss: 0.1149 - val_accuracy: 0.9699\n",
      "Epoch 5/20\n",
      "469/469 [==============================] - 7s 15ms/step - loss: 0.1788 - accuracy: 0.9552 - val_loss: 0.1197 - val_accuracy: 0.9707\n",
      "Epoch 6/20\n",
      "469/469 [==============================] - 8s 17ms/step - loss: 0.1680 - accuracy: 0.9589 - val_loss: 0.1141 - val_accuracy: 0.9742\n",
      "Epoch 7/20\n",
      "469/469 [==============================] - 7s 14ms/step - loss: 0.1652 - accuracy: 0.9613 - val_loss: 0.1050 - val_accuracy: 0.9741\n",
      "Epoch 8/20\n",
      "469/469 [==============================] - 7s 15ms/step - loss: 0.1540 - accuracy: 0.9638 - val_loss: 0.1121 - val_accuracy: 0.9742\n",
      "Epoch 9/20\n",
      "469/469 [==============================] - 7s 14ms/step - loss: 0.1559 - accuracy: 0.9640 - val_loss: 0.1206 - val_accuracy: 0.9725\n",
      "Epoch 10/20\n",
      "469/469 [==============================] - 7s 15ms/step - loss: 0.1555 - accuracy: 0.9649 - val_loss: 0.1184 - val_accuracy: 0.9744\n",
      "Epoch 11/20\n",
      "469/469 [==============================] - 6s 12ms/step - loss: 0.1526 - accuracy: 0.9663 - val_loss: 0.1036 - val_accuracy: 0.9777\n",
      "Epoch 12/20\n",
      "469/469 [==============================] - 5s 11ms/step - loss: 0.1478 - accuracy: 0.9667 - val_loss: 0.1215 - val_accuracy: 0.9744\n",
      "Epoch 13/20\n",
      "469/469 [==============================] - 6s 12ms/step - loss: 0.1450 - accuracy: 0.9682 - val_loss: 0.1219 - val_accuracy: 0.9771\n",
      "Epoch 14/20\n",
      "469/469 [==============================] - 5s 11ms/step - loss: 0.1481 - accuracy: 0.9686 - val_loss: 0.1279 - val_accuracy: 0.9762\n",
      "Epoch 15/20\n",
      "469/469 [==============================] - 5s 11ms/step - loss: 0.1459 - accuracy: 0.9695 - val_loss: 0.1261 - val_accuracy: 0.9760\n",
      "Epoch 16/20\n",
      "469/469 [==============================] - 6s 13ms/step - loss: 0.1482 - accuracy: 0.9689 - val_loss: 0.1246 - val_accuracy: 0.9765\n",
      "Epoch 17/20\n",
      "469/469 [==============================] - 7s 15ms/step - loss: 0.1435 - accuracy: 0.9694 - val_loss: 0.1290 - val_accuracy: 0.9776\n",
      "Epoch 18/20\n",
      "469/469 [==============================] - 6s 13ms/step - loss: 0.1420 - accuracy: 0.9699 - val_loss: 0.1210 - val_accuracy: 0.9770\n",
      "Epoch 19/20\n",
      "469/469 [==============================] - 7s 15ms/step - loss: 0.1377 - accuracy: 0.9701 - val_loss: 0.1343 - val_accuracy: 0.9762\n",
      "Epoch 20/20\n",
      "469/469 [==============================] - 5s 11ms/step - loss: 0.1405 - accuracy: 0.9709 - val_loss: 0.1443 - val_accuracy: 0.9762\n"
     ]
    }
   ],
   "source": [
    "history = model.fit(x_train, y_train,\n",
    "                    batch_size=batch_size,\n",
    "                    epochs=epochs,\n",
    "                    verbose=1,\n",
    "                    validation_data=(x_test, y_test))"
   ]
  },
  {
   "cell_type": "code",
   "execution_count": 14,
   "metadata": {},
   "outputs": [
    {
     "name": "stdout",
     "output_type": "stream",
     "text": [
      "Test loss: 0.14434494078159332\n",
      "Test accuracy: 0.9761999845504761\n",
      "dict_keys(['loss', 'accuracy', 'val_loss', 'val_accuracy'])\n"
     ]
    }
   ],
   "source": [
    "score = model.evaluate(x_test, y_test, verbose=0)\n",
    "print('Test loss:', score[0])\n",
    "print('Test accuracy:', score[1])\n",
    "print(history.history.keys())"
   ]
  },
  {
   "cell_type": "code",
   "execution_count": 15,
   "metadata": {},
   "outputs": [],
   "source": [
    "# Model 3"
   ]
  },
  {
   "cell_type": "code",
   "execution_count": 16,
   "metadata": {},
   "outputs": [
    {
     "name": "stdout",
     "output_type": "stream",
     "text": [
      "Model: \"sequential_2\"\n",
      "_________________________________________________________________\n",
      "Layer (type)                 Output Shape              Param #   \n",
      "=================================================================\n",
      "dense_7 (Dense)              (None, 200)               157000    \n",
      "_________________________________________________________________\n",
      "dropout_5 (Dropout)          (None, 200)               0         \n",
      "_________________________________________________________________\n",
      "dense_8 (Dense)              (None, 300)               60300     \n",
      "_________________________________________________________________\n",
      "dropout_6 (Dropout)          (None, 300)               0         \n",
      "_________________________________________________________________\n",
      "dense_9 (Dense)              (None, 250)               75250     \n",
      "_________________________________________________________________\n",
      "dropout_7 (Dropout)          (None, 250)               0         \n",
      "_________________________________________________________________\n",
      "dense_10 (Dense)             (None, 10)                2510      \n",
      "=================================================================\n",
      "Total params: 295,060\n",
      "Trainable params: 295,060\n",
      "Non-trainable params: 0\n",
      "_________________________________________________________________\n"
     ]
    }
   ],
   "source": [
    "#i am running a thurd model with other configuration\n",
    "model = Sequential()\n",
    "model.add(Dense(200, activation='relu', input_shape=(784,)))\n",
    "model.add(Dropout(0.7))\n",
    "model.add(Dense(300, activation='relu'))\n",
    "model.add(Dropout(0.7))\n",
    "model.add(Dense(250, activation='relu'))\n",
    "model.add(Dropout(0.7))\n",
    "model.add(Dense(10, activation='softmax'))\n",
    "\n",
    "model.summary()\n",
    "\n",
    "model.compile(loss='categorical_crossentropy',\n",
    "              optimizer=RMSprop(),\n",
    "              metrics=['accuracy'])\n",
    "epochs = 25"
   ]
  },
  {
   "cell_type": "code",
   "execution_count": 18,
   "metadata": {},
   "outputs": [
    {
     "name": "stdout",
     "output_type": "stream",
     "text": [
      "Epoch 1/25\n",
      "469/469 [==============================] - 6s 9ms/step - loss: 1.0577 - accuracy: 0.6430 - val_loss: 0.3056 - val_accuracy: 0.9188\n",
      "Epoch 2/25\n",
      "469/469 [==============================] - 4s 9ms/step - loss: 0.5156 - accuracy: 0.8632 - val_loss: 0.2444 - val_accuracy: 0.9358\n",
      "Epoch 3/25\n",
      "469/469 [==============================] - 4s 9ms/step - loss: 0.4495 - accuracy: 0.8861 - val_loss: 0.2145 - val_accuracy: 0.9460\n",
      "Epoch 4/25\n",
      "469/469 [==============================] - 4s 9ms/step - loss: 0.4230 - accuracy: 0.8962 - val_loss: 0.2038 - val_accuracy: 0.9489\n",
      "Epoch 5/25\n",
      "469/469 [==============================] - 5s 11ms/step - loss: 0.4049 - accuracy: 0.9027 - val_loss: 0.1984 - val_accuracy: 0.9521\n",
      "Epoch 6/25\n",
      "469/469 [==============================] - 5s 12ms/step - loss: 0.3975 - accuracy: 0.9073 - val_loss: 0.1947 - val_accuracy: 0.9532\n",
      "Epoch 7/25\n",
      "469/469 [==============================] - 4s 9ms/step - loss: 0.3912 - accuracy: 0.9106 - val_loss: 0.2168 - val_accuracy: 0.9508\n",
      "Epoch 8/25\n",
      "469/469 [==============================] - 5s 11ms/step - loss: 0.3908 - accuracy: 0.9118 - val_loss: 0.1916 - val_accuracy: 0.9551\n",
      "Epoch 9/25\n",
      "469/469 [==============================] - 7s 14ms/step - loss: 0.3932 - accuracy: 0.9131 - val_loss: 0.2130 - val_accuracy: 0.9546\n",
      "Epoch 10/25\n",
      "469/469 [==============================] - 5s 10ms/step - loss: 0.3968 - accuracy: 0.9125 - val_loss: 0.2042 - val_accuracy: 0.9575\n",
      "Epoch 11/25\n",
      "469/469 [==============================] - 5s 10ms/step - loss: 0.3935 - accuracy: 0.9129 - val_loss: 0.2020 - val_accuracy: 0.9590\n",
      "Epoch 12/25\n",
      "469/469 [==============================] - 5s 10ms/step - loss: 0.3867 - accuracy: 0.9167 - val_loss: 0.1995 - val_accuracy: 0.9604\n",
      "Epoch 13/25\n",
      "469/469 [==============================] - 4s 9ms/step - loss: 0.3932 - accuracy: 0.9151 - val_loss: 0.2121 - val_accuracy: 0.9612\n",
      "Epoch 14/25\n",
      "469/469 [==============================] - 7s 14ms/step - loss: 0.3953 - accuracy: 0.9164 - val_loss: 0.2095 - val_accuracy: 0.9605\n",
      "Epoch 15/25\n",
      "469/469 [==============================] - 6s 13ms/step - loss: 0.3923 - accuracy: 0.9181 - val_loss: 0.2204 - val_accuracy: 0.9597\n",
      "Epoch 16/25\n",
      "469/469 [==============================] - 4s 9ms/step - loss: 0.3931 - accuracy: 0.9175 - val_loss: 0.2101 - val_accuracy: 0.9609\n",
      "Epoch 17/25\n",
      "469/469 [==============================] - 7s 16ms/step - loss: 0.3958 - accuracy: 0.9181 - val_loss: 0.2267 - val_accuracy: 0.9620\n",
      "Epoch 18/25\n",
      "469/469 [==============================] - 7s 14ms/step - loss: 0.3935 - accuracy: 0.9191 - val_loss: 0.2185 - val_accuracy: 0.9615\n",
      "Epoch 19/25\n",
      "469/469 [==============================] - 4s 9ms/step - loss: 0.3902 - accuracy: 0.9203 - val_loss: 0.2120 - val_accuracy: 0.9624\n",
      "Epoch 20/25\n",
      "469/469 [==============================] - 7s 16ms/step - loss: 0.3904 - accuracy: 0.9195 - val_loss: 0.2313 - val_accuracy: 0.9623\n",
      "Epoch 21/25\n",
      "469/469 [==============================] - 5s 12ms/step - loss: 0.3979 - accuracy: 0.9197 - val_loss: 0.2142 - val_accuracy: 0.9644\n",
      "Epoch 22/25\n",
      "469/469 [==============================] - 7s 15ms/step - loss: 0.4004 - accuracy: 0.9209 - val_loss: 0.2335 - val_accuracy: 0.9636\n",
      "Epoch 23/25\n",
      "469/469 [==============================] - 4s 9ms/step - loss: 0.3987 - accuracy: 0.9202 - val_loss: 0.2207 - val_accuracy: 0.9648\n",
      "Epoch 24/25\n",
      "469/469 [==============================] - 4s 9ms/step - loss: 0.4019 - accuracy: 0.9216 - val_loss: 0.2262 - val_accuracy: 0.9661\n",
      "Epoch 25/25\n",
      "469/469 [==============================] - 6s 13ms/step - loss: 0.3947 - accuracy: 0.9225 - val_loss: 0.2237 - val_accuracy: 0.9656\n"
     ]
    }
   ],
   "source": [
    "history = model.fit(x_train, y_train,\n",
    "                    batch_size=batch_size,\n",
    "                    epochs=epochs,\n",
    "                    verbose=1,\n",
    "                    validation_data=(x_test, y_test))"
   ]
  },
  {
   "cell_type": "code",
   "execution_count": 19,
   "metadata": {},
   "outputs": [
    {
     "name": "stdout",
     "output_type": "stream",
     "text": [
      "Test loss: 0.22367653250694275\n",
      "Test accuracy: 0.9656000137329102\n",
      "dict_keys(['loss', 'accuracy', 'val_loss', 'val_accuracy'])\n"
     ]
    }
   ],
   "source": [
    "score = model.evaluate(x_test, y_test, verbose=0)\n",
    "print('Test loss:', score[0])\n",
    "print('Test accuracy:', score[1])\n",
    "print(history.history.keys())"
   ]
  },
  {
   "cell_type": "markdown",
   "metadata": {},
   "source": [
    "We can see from the model's performance that the best results were obtained when the dropout was 0.2. This is because when the dropout rate rises, the model may not be able to learn all of the characteristics adequately, and as the dropout rate decreases, the model may not be able to learn all of the aspects properly. The model would overfit."
   ]
  }
 ],
 "metadata": {
  "kernelspec": {
   "display_name": "Python 3",
   "language": "python",
   "name": "python3"
  },
  "language_info": {
   "codemirror_mode": {
    "name": "ipython",
    "version": 3
   },
   "file_extension": ".py",
   "mimetype": "text/x-python",
   "name": "python",
   "nbconvert_exporter": "python",
   "pygments_lexer": "ipython3",
   "version": "3.8.8"
  }
 },
 "nbformat": 4,
 "nbformat_minor": 4
}
