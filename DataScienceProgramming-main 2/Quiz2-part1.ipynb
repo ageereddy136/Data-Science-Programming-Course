{
 "cells": [
  {
   "cell_type": "markdown",
   "id": "df4ffe6e",
   "metadata": {},
   "source": [
    "# Create 100 points satisfying a third degree polynomial (e.g. y = 4.2x**3 -2.1x**2 + 3x -2 + random-noise)"
   ]
  },
  {
   "cell_type": "code",
   "execution_count": null,
   "id": "57f4ee2a",
   "metadata": {},
   "outputs": [],
   "source": [
    "# the quadratic euation with hundred data points\n",
    "#polynomial with the the 3rd degree and the noise.\n",
    "\n",
    "import numpy as np\n",
    "m = 100 # number of data points\n",
    "x = 6 * np.random.rand(m,1) - 3\n",
    "y = 4.2*(x**3) -2.1*(x**2) - 2 + 10*np.random.randn(m,1)"
   ]
  },
  {
   "cell_type": "code",
   "execution_count": 41,
   "id": "d8d10c73",
   "metadata": {},
   "outputs": [
    {
     "name": "stdout",
     "output_type": "stream",
     "text": [
      "<class 'numpy.ndarray'> 2 (100, 1) <class 'numpy.ndarray'> 2 (100, 1)\n",
      "[[ 2.49390778]\n",
      " [-0.85696689]\n",
      " [-2.92404379]]\n",
      "[[  52.77563753]\n",
      " [   6.30936609]\n",
      " [-137.51877037]]\n"
     ]
    }
   ],
   "source": [
    "print(type(x), x.ndim, x.shape, type(y),y.ndim, y.shape)\n",
    "print(x[:3])\n",
    "print(y[:3])"
   ]
  },
  {
   "cell_type": "code",
   "execution_count": 42,
   "id": "77716b34",
   "metadata": {},
   "outputs": [
    {
     "data": {
      "image/png": "[encoded data removed]",
      "text/plain": [
       "<Figure size 432x288 with 1 Axes>"
      ]
     },
     "metadata": {
      "needs_background": "light"
     },
     "output_type": "display_data"
    }
   ],
   "source": [
    "import matplotlib\n",
    "import matplotlib.pyplot as plt\n",
    "plt.scatter(x,y)\n",
    "plt.show()"
   ]
  },
  {
   "cell_type": "code",
   "execution_count": 43,
   "id": "d172f1c2",
   "metadata": {},
   "outputs": [
    {
     "name": "stdout",
     "output_type": "stream",
     "text": [
      "[-1.65608324] [[ 0.66347959  1.04165764  3.97772117 -0.22704738  0.45562339 -0.57793633\n",
      "  -0.16566546  0.14058379  0.01376633 -0.00890711]]\n"
     ]
    }
   ],
   "source": [
    "from sklearn.linear_model import LinearRegression\n",
    "lin_reg = LinearRegression()\n",
    "lin_reg.fit(x_train, y_train)\n",
    "print(lin_reg.intercept_, lin_reg.coef_)"
   ]
  },
  {
   "cell_type": "code",
   "execution_count": 44,
   "id": "c3e1c3ef",
   "metadata": {},
   "outputs": [
    {
     "name": "stdout",
     "output_type": "stream",
     "text": [
      "[2.49390778] [2.49390778e+00 6.21957601e+00 1.55110490e+01 3.86831257e+01\n",
      " 9.64721481e+01 2.40592641e+02 6.00015858e+02 1.49638421e+03\n",
      " 3.73184423e+03 9.30687536e+03]\n",
      "(100, 1) (100, 10)\n"
     ]
    }
   ],
   "source": [
    "#polynomial feature with the degree 10\n",
    "from sklearn.preprocessing import PolynomialFeatures\n",
    "num_degrees = 10\n",
    "poly_features = PolynomialFeatures(degree=num_degrees, include_bias=False)\n",
    "x_poly = poly_features.fit_transform(x)\n",
    "print(x[0], x_poly[0])\n",
    "print(x.shape, x_poly.shape)\n"
   ]
  },
  {
   "cell_type": "markdown",
   "id": "4dcd0a71",
   "metadata": {},
   "source": [
    "# Create polynomial features of degrees 10 and build a linear regression model on 70% of the training data and test it on the remaining 30%."
   ]
  },
  {
   "cell_type": "code",
   "execution_count": 45,
   "id": "6df76c20",
   "metadata": {},
   "outputs": [
    {
     "name": "stdout",
     "output_type": "stream",
     "text": [
      "[-3.29501809] [[-5.25322059  3.62751103  4.64015753 -4.0180686   0.50383509  1.38582356\n",
      "  -0.1178985  -0.21237826  0.00754977  0.01117736]]\n",
      "Mean Squared Error on Test:  161.59935953240685\n"
     ]
    },
    {
     "data": {
      "image/png": "[encoded data removed]",
      "text/plain": [
       "<Figure size 432x288 with 1 Axes>"
      ]
     },
     "metadata": {
      "needs_background": "light"
     },
     "output_type": "display_data"
    }
   ],
   "source": [
    "# Traning as 70% of the data and test data as 30% and builded a modek with the degree 10\n",
    "from sklearn.metrics import mean_squared_error\n",
    "from sklearn.model_selection import train_test_split\n",
    "x_train, x_test, y_train, y_test = train_test_split(x_poly, y, test_size=0.3)\n",
    "lin_reg = LinearRegression()\n",
    "lin_reg.fit(x_train, y_train)\n",
    "print(lin_reg.intercept_, lin_reg.coef_)\n",
    "y_predict = lin_reg.predict(x_test)\n",
    "mse = mean_squared_error(y_test,y_predict)\n",
    "print(\"Mean Squared Error on Test: \", mse)\n",
    "\n",
    "order = x_test[:,0].argsort()\n",
    "x_test = x_test[order]\n",
    "ys = y_predict[order]\n",
    "truey = y_test[order]\n",
    "xs = x_test[:,:-(num_degrees-1)]\n",
    "\n",
    "plt.plot(xs,ys,\"r-\")\n",
    "plt.scatter(xs, truey, color='blue')\n",
    "plt.show()"
   ]
  },
  {
   "cell_type": "markdown",
   "id": "1702db69",
   "metadata": {},
   "source": [
    "# Repeat the previous step above (you can keep the data the same), but this time also use regularization to build and test your model."
   ]
  },
  {
   "cell_type": "code",
   "execution_count": 46,
   "id": "2b3a1f3d",
   "metadata": {},
   "outputs": [
    {
     "name": "stdout",
     "output_type": "stream",
     "text": [
      "Mean Squared Error on Test:  152.74862595680284\n",
      "[-2.75845279] [-0.00000000e+00  0.00000000e+00  2.00612675e+00  0.00000000e+00\n",
      "  4.78434728e-01 -8.86774816e-02 -1.79467207e-02 -1.97635241e-03\n",
      " -5.76816544e-04  9.89525023e-04]\n"
     ]
    },
    {
     "name": "stderr",
     "output_type": "stream",
     "text": [
      "/Users/amulyageereddy/opt/anaconda3/lib/python3.8/site-packages/sklearn/linear_model/_coordinate_descent.py:529: ConvergenceWarning: Objective did not converge. You might want to increase the number of iterations. Duality gap: 1992.4854963139471, tolerance: 16.12772295617056\n",
      "  model = cd_fast.enet_coordinate_descent(\n"
     ]
    },
    {
     "data": {
      "image/png": "[encoded data removed]",
      "text/plain": [
       "<Figure size 432x288 with 1 Axes>"
      ]
     },
     "metadata": {
      "needs_background": "light"
     },
     "output_type": "display_data"
    }
   ],
   "source": [
    "# Added the lasso variable to the same step that is used regularization to build the model and test it.\n",
    "\n",
    "from sklearn.linear_model import Lasso\n",
    "lasso_reg = Lasso(alpha=0.5)\n",
    "lasso_reg.fit(x_train, y_train)\n",
    "y_predict = lasso_reg.predict(x_test)\n",
    "mse = mean_squared_error(truey,y_predict)\n",
    "print(\"Mean Squared Error on Test: \", mse)\n",
    "print(lasso_reg.intercept_, lasso_reg.coef_)\n",
    "\n",
    "plt.plot(xs,y_predict,\"r-\")\n",
    "plt.scatter(xs, truey, color='blue')\n",
    "plt.show()"
   ]
  },
  {
   "cell_type": "markdown",
   "id": "32094bd2",
   "metadata": {},
   "source": [
    "# Inference : By Adding the lasso alpha i.e the regularization the value of the mean square error value decreased because by adding the lasso variable it eliminates the tetha completely. The regularized Lasso regression model has less Mean Squared Error compared to Polynomial regression and has better performance."
   ]
  }
 ],
 "metadata": {
  "kernelspec": {
   "display_name": "Python 3",
   "language": "python",
   "name": "python3"
  },
  "language_info": {
   "codemirror_mode": {
    "name": "ipython",
    "version": 3
   },
   "file_extension": ".py",
   "mimetype": "text/x-python",
   "name": "python",
   "nbconvert_exporter": "python",
   "pygments_lexer": "ipython3",
   "version": "3.8.8"
  }
 },
 "nbformat": 4,
 "nbformat_minor": 5
}
