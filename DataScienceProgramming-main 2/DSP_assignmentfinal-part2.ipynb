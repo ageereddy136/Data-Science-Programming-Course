{
 "cells": [
  {
   "cell_type": "code",
   "execution_count": 23,
   "id": "0582cb57",
   "metadata": {},
   "outputs": [],
   "source": [
    "#importing the required packages\n",
    "import keras\n",
    "import numpy as np\n",
    "from keras.preprocessing.image import ImageDataGenerator\n",
    "from keras.models import Sequential\n",
    "from keras.layers import Dense, Dropout, Activation, Flatten\n",
    "from keras.layers import Conv2D, MaxPooling2D\n",
    "import os\n",
    "import tensorflow as tf"
   ]
  },
  {
   "cell_type": "code",
   "execution_count": 24,
   "id": "d4eceb64",
   "metadata": {},
   "outputs": [],
   "source": [
    "#generating train data\n",
    "train_datagen = ImageDataGenerator(rescale=1./255)"
   ]
  },
  {
   "cell_type": "code",
   "execution_count": 25,
   "id": "9859e33b",
   "metadata": {},
   "outputs": [],
   "source": [
    "valid_datagen = ImageDataGenerator(rescale=1./255)"
   ]
  },
  {
   "cell_type": "code",
   "execution_count": 26,
   "id": "161bafe1",
   "metadata": {},
   "outputs": [
    {
     "name": "stdout",
     "output_type": "stream",
     "text": [
      "Found 12642 images belonging to 25 classes.\n"
     ]
    }
   ],
   "source": [
    "\n",
    "train_generator = train_datagen.flow_from_directory(\n",
    "directory=\"FRUITS/FRUITS/Training32\",\n",
    "target_size=(32, 32),\n",
    "color_mode=\"rgb\",\n",
    "batch_size=128,\n",
    "class_mode=\"categorical\",\n",
    "shuffle=True,\n",
    "seed=42\n",
    ")"
   ]
  },
  {
   "cell_type": "code",
   "execution_count": 27,
   "id": "05299569",
   "metadata": {},
   "outputs": [
    {
     "name": "stdout",
     "output_type": "stream",
     "text": [
      "Found 4232 images belonging to 25 classes.\n"
     ]
    }
   ],
   "source": [
    "valid_generator = valid_datagen.flow_from_directory(\n",
    "directory=\"FRUITS/FRUITS/Test32\",\n",
    "target_size=(32, 32),\n",
    "color_mode=\"rgb\",\n",
    "batch_size=128,\n",
    "class_mode=\"categorical\",\n",
    "shuffle=True,\n",
    "seed=42\n",
    ")\n"
   ]
  },
  {
   "cell_type": "code",
   "execution_count": 41,
   "id": "91214810",
   "metadata": {},
   "outputs": [
    {
     "name": "stdout",
     "output_type": "stream",
     "text": [
      "Model: \"sequential_3\"\n",
      "_________________________________________________________________\n",
      "Layer (type)                 Output Shape              Param #   \n",
      "=================================================================\n",
      "conv2d_10 (Conv2D)           (None, 32, 32, 32)        896       \n",
      "_________________________________________________________________\n",
      "activation_14 (Activation)   (None, 32, 32, 32)        0         \n",
      "_________________________________________________________________\n",
      "conv2d_11 (Conv2D)           (None, 30, 30, 32)        9248      \n",
      "_________________________________________________________________\n",
      "activation_15 (Activation)   (None, 30, 30, 32)        0         \n",
      "_________________________________________________________________\n",
      "max_pooling2d_5 (MaxPooling2 (None, 15, 15, 32)        0         \n",
      "_________________________________________________________________\n",
      "dropout_7 (Dropout)          (None, 15, 15, 32)        0         \n",
      "_________________________________________________________________\n",
      "flatten_2 (Flatten)          (None, 7200)              0         \n",
      "_________________________________________________________________\n",
      "dense_4 (Dense)              (None, 512)               3686912   \n",
      "_________________________________________________________________\n",
      "activation_16 (Activation)   (None, 512)               0         \n",
      "_________________________________________________________________\n",
      "dropout_8 (Dropout)          (None, 512)               0         \n",
      "_________________________________________________________________\n",
      "dense_5 (Dense)              (None, 25)                12825     \n",
      "_________________________________________________________________\n",
      "activation_17 (Activation)   (None, 25)                0         \n",
      "=================================================================\n",
      "Total params: 3,709,881\n",
      "Trainable params: 3,709,881\n",
      "Non-trainable params: 0\n",
      "_________________________________________________________________\n"
     ]
    }
   ],
   "source": [
    "\n",
    "# CNN model with 3 layers \n",
    "model = Sequential()\n",
    "\n",
    "\n",
    "model.add(Conv2D(32, (3, 3), padding='same', input_shape=(32,32,3)))\n",
    "model.add(Activation('relu'))\n",
    "\n",
    "\n",
    "model.add(Conv2D(32, (3, 3)))\n",
    "model.add(Activation('relu'))\n",
    "\n",
    "\n",
    "model.add(MaxPooling2D(pool_size=(2, 2)))\n",
    "model.add(Dropout(rate=0.25))\n",
    "\n",
    "#model.add(Conv2D(64, (3, 3), padding='same'))\n",
    "#model.add(Activation('relu'))\n",
    "\n",
    "#model.add(Conv2D(64, (3, 3)))\n",
    "#model.add(Activation('relu'))\n",
    "\n",
    "#model.add(MaxPooling2D(pool_size=(2, 2)))\n",
    "#model.add(Dropout(rate=0.25))\n",
    "\n",
    "\n",
    "\n",
    "model.add(Flatten())\n",
    "\n",
    "model.add(Dense(512))\n",
    "model.add(Activation('relu'))\n",
    "model.add(Dropout(rate=0.5))\n",
    "model.add(Dense(25))\n",
    "model.add(Activation('softmax'))\n",
    "\n",
    "model.summary()"
   ]
  },
  {
   "cell_type": "code",
   "execution_count": 42,
   "id": "b3544139",
   "metadata": {},
   "outputs": [],
   "source": [
    "#Defining the optimizer\n",
    "opt = tf.keras.optimizers.Adam(learning_rate=0.0001)"
   ]
  },
  {
   "cell_type": "code",
   "execution_count": 43,
   "id": "90444b72",
   "metadata": {},
   "outputs": [],
   "source": [
    "# Let's train the model using RMSprop\n",
    "model.compile(loss='categorical_crossentropy',\n",
    "optimizer=opt,\n",
    "metrics=['accuracy'])"
   ]
  },
  {
   "cell_type": "code",
   "execution_count": 44,
   "id": "22ecfd87",
   "metadata": {},
   "outputs": [
    {
     "name": "stdout",
     "output_type": "stream",
     "text": [
      "Epoch 1/5\n",
      "90/90 [==============================] - ETA: 0s - loss: 2.0705 - accuracy: 0.4149WARNING:tensorflow:Your input ran out of data; interrupting training. Make sure that your dataset or generator can generate at least `steps_per_epoch * epochs` batches (in this case, 100 batches). You may need to use the repeat() function when building your dataset.\n",
      "90/90 [==============================] - 29s 313ms/step - loss: 2.0705 - accuracy: 0.4149 - val_loss: 1.0059 - val_accuracy: 0.7143\n",
      "Epoch 2/5\n",
      "90/90 [==============================] - 22s 242ms/step - loss: 0.7485 - accuracy: 0.7748\n",
      "Epoch 3/5\n",
      "90/90 [==============================] - 22s 242ms/step - loss: 0.4091 - accuracy: 0.8793\n",
      "Epoch 4/5\n",
      "90/90 [==============================] - 22s 242ms/step - loss: 0.2763 - accuracy: 0.9184\n",
      "Epoch 5/5\n",
      "90/90 [==============================] - 22s 245ms/step - loss: 0.1958 - accuracy: 0.9411\n"
     ]
    },
    {
     "data": {
      "text/plain": [
       "<keras.callbacks.History at 0x1c60577cd00>"
      ]
     },
     "execution_count": 44,
     "metadata": {},
     "output_type": "execute_result"
    }
   ],
   "source": [
    "#fit the model\n",
    "model.fit_generator(\n",
    "train_generator,\n",
    "steps_per_epoch=90,\n",
    "epochs=5,\n",
    "validation_data=valid_generator,\n",
    "validation_steps=100)"
   ]
  },
  {
   "cell_type": "code",
   "execution_count": 45,
   "id": "806e0f14",
   "metadata": {},
   "outputs": [],
   "source": [
    "#Predict a single image\n",
    "import cv2\n",
    "from matplotlib import pyplot as plt\n",
    "\n",
    "img = cv2.imread(\"FRUITS/FRUITS/Test32/Apple Braeburn/3_100.jpg\")\n"
   ]
  },
  {
   "cell_type": "code",
   "execution_count": 46,
   "id": "b12fe32b",
   "metadata": {},
   "outputs": [
    {
     "data": {
      "text/plain": [
       "<matplotlib.image.AxesImage at 0x1c6058e7b50>"
      ]
     },
     "execution_count": 46,
     "metadata": {},
     "output_type": "execute_result"
    },
    {
     "data": {
      "image/png": "[encoded data removed]",
      "text/plain": [
       "<Figure size 432x288 with 1 Axes>"
      ]
     },
     "metadata": {
      "needs_background": "light"
     },
     "output_type": "display_data"
    }
   ],
   "source": [
    "#CV2 reads an image in BGR format. We need to convert it to RGB\n",
    "b,g,r = cv2.split(img) # get b,g,r\n",
    "rgb_img = cv2.merge([r,g,b]) # switch it to rgb\n",
    "\n",
    "plt.imshow(rgb_img)"
   ]
  },
  {
   "cell_type": "code",
   "execution_count": 47,
   "id": "d5c4d645",
   "metadata": {},
   "outputs": [],
   "source": [
    "img_rank4 = np.expand_dims(rgb_img/255, axis=0)"
   ]
  },
  {
   "cell_type": "code",
   "execution_count": 48,
   "id": "3465be79",
   "metadata": {},
   "outputs": [],
   "source": [
    "#predicting the model\n",
    "a=model.predict(img_rank4)"
   ]
  },
  {
   "cell_type": "code",
   "execution_count": 49,
   "id": "ef12ed12",
   "metadata": {},
   "outputs": [
    {
     "data": {
      "text/plain": [
       "array([[1., 0., 0., 0., 0., 0., 0., 0., 0., 0., 0., 0., 0., 0., 0., 0.,\n",
       "        0., 0., 0., 0., 0., 0., 0., 0., 0.]], dtype=float32)"
      ]
     },
     "execution_count": 49,
     "metadata": {},
     "output_type": "execute_result"
    }
   ],
   "source": [
    "\n",
    "np.round(a)"
   ]
  },
  {
   "cell_type": "code",
   "execution_count": 50,
   "id": "d8231dc4",
   "metadata": {},
   "outputs": [],
   "source": [
    "classes_x=np.argmax(a,axis=1)"
   ]
  },
  {
   "cell_type": "code",
   "execution_count": 51,
   "id": "29b0148a",
   "metadata": {},
   "outputs": [],
   "source": [
    "label_map = (train_generator.class_indices)"
   ]
  },
  {
   "cell_type": "code",
   "execution_count": 52,
   "id": "018e904e",
   "metadata": {},
   "outputs": [
    {
     "data": {
      "text/plain": [
       "{'Apple Braeburn': 0,\n",
       " 'Apple Golden 1': 1,\n",
       " 'Apple Golden 2': 2,\n",
       " 'Apple Golden 3': 3,\n",
       " 'Apple Granny Smith': 4,\n",
       " 'Apple Red 1': 5,\n",
       " 'Apple Red 2': 6,\n",
       " 'Apple Red 3': 7,\n",
       " 'Apple Red Delicious': 8,\n",
       " 'Apple Red Yellow': 9,\n",
       " 'Apricot': 10,\n",
       " 'Avocado': 11,\n",
       " 'Avocado ripe': 12,\n",
       " 'Banana': 13,\n",
       " 'Banana Red': 14,\n",
       " 'Cactus fruit': 15,\n",
       " 'Cantaloupe 1': 16,\n",
       " 'Cantaloupe 2': 17,\n",
       " 'Carambula': 18,\n",
       " 'Cherry 1': 19,\n",
       " 'Cherry 2': 20,\n",
       " 'Cherry Rainier': 21,\n",
       " 'Cherry Wax Black': 22,\n",
       " 'Cherry Wax Red': 23,\n",
       " 'Cherry Wax Yellow': 24}"
      ]
     },
     "execution_count": 52,
     "metadata": {},
     "output_type": "execute_result"
    }
   ],
   "source": [
    "label_map"
   ]
  },
  {
   "cell_type": "code",
   "execution_count": 53,
   "id": "ca31f575",
   "metadata": {},
   "outputs": [
    {
     "data": {
      "text/plain": [
       "'Apple Braeburn'"
      ]
     },
     "execution_count": 53,
     "metadata": {},
     "output_type": "execute_result"
    }
   ],
   "source": [
    "list(label_map.keys())[classes_x[0]]"
   ]
  },
  {
   "cell_type": "code",
   "execution_count": 54,
   "id": "c61a669c",
   "metadata": {},
   "outputs": [],
   "source": [
    "#From the previous model I have removed layer in to CNN architecture which helped to increase the accuracy of the CNN model.\n",
    "#As the accuracy was 86% now it increased to 94% by removing a convolution and maxpooling layer."
   ]
  },
  {
   "cell_type": "code",
   "execution_count": null,
   "id": "fa1ce96a",
   "metadata": {},
   "outputs": [],
   "source": []
  }
 ],
 "metadata": {
  "kernelspec": {
   "display_name": "Python 3",
   "language": "python",
   "name": "python3"
  },
  "language_info": {
   "codemirror_mode": {
    "name": "ipython",
    "version": 3
   },
   "file_extension": ".py",
   "mimetype": "text/x-python",
   "name": "python",
   "nbconvert_exporter": "python",
   "pygments_lexer": "ipython3",
   "version": "3.8.8"
  }
 },
 "nbformat": 4,
 "nbformat_minor": 5
}
