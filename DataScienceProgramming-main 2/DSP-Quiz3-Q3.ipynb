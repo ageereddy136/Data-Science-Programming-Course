{
 "cells": [
  {
   "cell_type": "code",
   "execution_count": 2,
   "metadata": {},
   "outputs": [],
   "source": [
    "# Common imports\n",
    "import numpy as np\n",
    "import os\n",
    "import pandas as pd\n",
    "import tensorflow as tf"
   ]
  },
  {
   "cell_type": "markdown",
   "metadata": {},
   "source": [
    "Adding the data"
   ]
  },
  {
   "cell_type": "code",
   "execution_count": 3,
   "metadata": {},
   "outputs": [
    {
     "data": {
      "text/html": [
       "<div>\n",
       "<style scoped>\n",
       "    .dataframe tbody tr th:only-of-type {\n",
       "        vertical-align: middle;\n",
       "    }\n",
       "\n",
       "    .dataframe tbody tr th {\n",
       "        vertical-align: top;\n",
       "    }\n",
       "\n",
       "    .dataframe thead th {\n",
       "        text-align: right;\n",
       "    }\n",
       "</style>\n",
       "<table border=\"1\" class=\"dataframe\">\n",
       "  <thead>\n",
       "    <tr style=\"text-align: right;\">\n",
       "      <th></th>\n",
       "      <th>longitude</th>\n",
       "      <th>latitude</th>\n",
       "      <th>housing_median_age</th>\n",
       "      <th>total_rooms</th>\n",
       "      <th>total_bedrooms</th>\n",
       "      <th>population</th>\n",
       "      <th>households</th>\n",
       "      <th>median_income</th>\n",
       "      <th>median_house_value</th>\n",
       "      <th>ocean_proximity</th>\n",
       "    </tr>\n",
       "  </thead>\n",
       "  <tbody>\n",
       "    <tr>\n",
       "      <th>0</th>\n",
       "      <td>-122.23</td>\n",
       "      <td>37.88</td>\n",
       "      <td>41.0</td>\n",
       "      <td>880.0</td>\n",
       "      <td>129.0</td>\n",
       "      <td>322.0</td>\n",
       "      <td>126.0</td>\n",
       "      <td>8.3252</td>\n",
       "      <td>452600.0</td>\n",
       "      <td>NEAR BAY</td>\n",
       "    </tr>\n",
       "    <tr>\n",
       "      <th>1</th>\n",
       "      <td>-122.22</td>\n",
       "      <td>37.86</td>\n",
       "      <td>21.0</td>\n",
       "      <td>7099.0</td>\n",
       "      <td>1106.0</td>\n",
       "      <td>2401.0</td>\n",
       "      <td>1138.0</td>\n",
       "      <td>8.3014</td>\n",
       "      <td>358500.0</td>\n",
       "      <td>NEAR BAY</td>\n",
       "    </tr>\n",
       "    <tr>\n",
       "      <th>2</th>\n",
       "      <td>-122.24</td>\n",
       "      <td>37.85</td>\n",
       "      <td>52.0</td>\n",
       "      <td>1467.0</td>\n",
       "      <td>190.0</td>\n",
       "      <td>496.0</td>\n",
       "      <td>177.0</td>\n",
       "      <td>7.2574</td>\n",
       "      <td>352100.0</td>\n",
       "      <td>NEAR BAY</td>\n",
       "    </tr>\n",
       "    <tr>\n",
       "      <th>3</th>\n",
       "      <td>-122.25</td>\n",
       "      <td>37.85</td>\n",
       "      <td>52.0</td>\n",
       "      <td>1274.0</td>\n",
       "      <td>235.0</td>\n",
       "      <td>558.0</td>\n",
       "      <td>219.0</td>\n",
       "      <td>5.6431</td>\n",
       "      <td>341300.0</td>\n",
       "      <td>NEAR BAY</td>\n",
       "    </tr>\n",
       "    <tr>\n",
       "      <th>4</th>\n",
       "      <td>-122.25</td>\n",
       "      <td>37.85</td>\n",
       "      <td>52.0</td>\n",
       "      <td>1627.0</td>\n",
       "      <td>280.0</td>\n",
       "      <td>565.0</td>\n",
       "      <td>259.0</td>\n",
       "      <td>3.8462</td>\n",
       "      <td>342200.0</td>\n",
       "      <td>NEAR BAY</td>\n",
       "    </tr>\n",
       "  </tbody>\n",
       "</table>\n",
       "</div>"
      ],
      "text/plain": [
       "   longitude  latitude  housing_median_age  total_rooms  total_bedrooms  \\\n",
       "0    -122.23     37.88                41.0        880.0           129.0   \n",
       "1    -122.22     37.86                21.0       7099.0          1106.0   \n",
       "2    -122.24     37.85                52.0       1467.0           190.0   \n",
       "3    -122.25     37.85                52.0       1274.0           235.0   \n",
       "4    -122.25     37.85                52.0       1627.0           280.0   \n",
       "\n",
       "   population  households  median_income  median_house_value ocean_proximity  \n",
       "0       322.0       126.0         8.3252            452600.0        NEAR BAY  \n",
       "1      2401.0      1138.0         8.3014            358500.0        NEAR BAY  \n",
       "2       496.0       177.0         7.2574            352100.0        NEAR BAY  \n",
       "3       558.0       219.0         5.6431            341300.0        NEAR BAY  \n",
       "4       565.0       259.0         3.8462            342200.0        NEAR BAY  "
      ]
     },
     "execution_count": 3,
     "metadata": {},
     "output_type": "execute_result"
    }
   ],
   "source": [
    "housing = pd.read_csv(\"housing.csv\")\n",
    "housing.head()"
   ]
  },
  {
   "cell_type": "code",
   "execution_count": 4,
   "metadata": {},
   "outputs": [
    {
     "data": {
      "text/html": [
       "<div>\n",
       "<style scoped>\n",
       "    .dataframe tbody tr th:only-of-type {\n",
       "        vertical-align: middle;\n",
       "    }\n",
       "\n",
       "    .dataframe tbody tr th {\n",
       "        vertical-align: top;\n",
       "    }\n",
       "\n",
       "    .dataframe thead th {\n",
       "        text-align: right;\n",
       "    }\n",
       "</style>\n",
       "<table border=\"1\" class=\"dataframe\">\n",
       "  <thead>\n",
       "    <tr style=\"text-align: right;\">\n",
       "      <th></th>\n",
       "      <th>longitude</th>\n",
       "      <th>latitude</th>\n",
       "      <th>housing_median_age</th>\n",
       "      <th>total_rooms</th>\n",
       "      <th>total_bedrooms</th>\n",
       "      <th>population</th>\n",
       "      <th>households</th>\n",
       "      <th>median_income</th>\n",
       "      <th>median_house_value</th>\n",
       "    </tr>\n",
       "  </thead>\n",
       "  <tbody>\n",
       "    <tr>\n",
       "      <th>count</th>\n",
       "      <td>20433.000000</td>\n",
       "      <td>20433.000000</td>\n",
       "      <td>20433.000000</td>\n",
       "      <td>20433.000000</td>\n",
       "      <td>20433.000000</td>\n",
       "      <td>20433.000000</td>\n",
       "      <td>20433.000000</td>\n",
       "      <td>20433.000000</td>\n",
       "      <td>20433.000000</td>\n",
       "    </tr>\n",
       "    <tr>\n",
       "      <th>mean</th>\n",
       "      <td>-119.570689</td>\n",
       "      <td>35.633221</td>\n",
       "      <td>28.633094</td>\n",
       "      <td>2636.504233</td>\n",
       "      <td>537.870553</td>\n",
       "      <td>1424.946949</td>\n",
       "      <td>499.433465</td>\n",
       "      <td>3.871162</td>\n",
       "      <td>206864.413155</td>\n",
       "    </tr>\n",
       "    <tr>\n",
       "      <th>std</th>\n",
       "      <td>2.003578</td>\n",
       "      <td>2.136348</td>\n",
       "      <td>12.591805</td>\n",
       "      <td>2185.269567</td>\n",
       "      <td>421.385070</td>\n",
       "      <td>1133.208490</td>\n",
       "      <td>382.299226</td>\n",
       "      <td>1.899291</td>\n",
       "      <td>115435.667099</td>\n",
       "    </tr>\n",
       "    <tr>\n",
       "      <th>min</th>\n",
       "      <td>-124.350000</td>\n",
       "      <td>32.540000</td>\n",
       "      <td>1.000000</td>\n",
       "      <td>2.000000</td>\n",
       "      <td>1.000000</td>\n",
       "      <td>3.000000</td>\n",
       "      <td>1.000000</td>\n",
       "      <td>0.499900</td>\n",
       "      <td>14999.000000</td>\n",
       "    </tr>\n",
       "    <tr>\n",
       "      <th>25%</th>\n",
       "      <td>-121.800000</td>\n",
       "      <td>33.930000</td>\n",
       "      <td>18.000000</td>\n",
       "      <td>1450.000000</td>\n",
       "      <td>296.000000</td>\n",
       "      <td>787.000000</td>\n",
       "      <td>280.000000</td>\n",
       "      <td>2.563700</td>\n",
       "      <td>119500.000000</td>\n",
       "    </tr>\n",
       "    <tr>\n",
       "      <th>50%</th>\n",
       "      <td>-118.490000</td>\n",
       "      <td>34.260000</td>\n",
       "      <td>29.000000</td>\n",
       "      <td>2127.000000</td>\n",
       "      <td>435.000000</td>\n",
       "      <td>1166.000000</td>\n",
       "      <td>409.000000</td>\n",
       "      <td>3.536500</td>\n",
       "      <td>179700.000000</td>\n",
       "    </tr>\n",
       "    <tr>\n",
       "      <th>75%</th>\n",
       "      <td>-118.010000</td>\n",
       "      <td>37.720000</td>\n",
       "      <td>37.000000</td>\n",
       "      <td>3143.000000</td>\n",
       "      <td>647.000000</td>\n",
       "      <td>1722.000000</td>\n",
       "      <td>604.000000</td>\n",
       "      <td>4.744000</td>\n",
       "      <td>264700.000000</td>\n",
       "    </tr>\n",
       "    <tr>\n",
       "      <th>max</th>\n",
       "      <td>-114.310000</td>\n",
       "      <td>41.950000</td>\n",
       "      <td>52.000000</td>\n",
       "      <td>39320.000000</td>\n",
       "      <td>6445.000000</td>\n",
       "      <td>35682.000000</td>\n",
       "      <td>6082.000000</td>\n",
       "      <td>15.000100</td>\n",
       "      <td>500001.000000</td>\n",
       "    </tr>\n",
       "  </tbody>\n",
       "</table>\n",
       "</div>"
      ],
      "text/plain": [
       "          longitude      latitude  housing_median_age   total_rooms  \\\n",
       "count  20433.000000  20433.000000        20433.000000  20433.000000   \n",
       "mean    -119.570689     35.633221           28.633094   2636.504233   \n",
       "std        2.003578      2.136348           12.591805   2185.269567   \n",
       "min     -124.350000     32.540000            1.000000      2.000000   \n",
       "25%     -121.800000     33.930000           18.000000   1450.000000   \n",
       "50%     -118.490000     34.260000           29.000000   2127.000000   \n",
       "75%     -118.010000     37.720000           37.000000   3143.000000   \n",
       "max     -114.310000     41.950000           52.000000  39320.000000   \n",
       "\n",
       "       total_bedrooms    population    households  median_income  \\\n",
       "count    20433.000000  20433.000000  20433.000000   20433.000000   \n",
       "mean       537.870553   1424.946949    499.433465       3.871162   \n",
       "std        421.385070   1133.208490    382.299226       1.899291   \n",
       "min          1.000000      3.000000      1.000000       0.499900   \n",
       "25%        296.000000    787.000000    280.000000       2.563700   \n",
       "50%        435.000000   1166.000000    409.000000       3.536500   \n",
       "75%        647.000000   1722.000000    604.000000       4.744000   \n",
       "max       6445.000000  35682.000000   6082.000000      15.000100   \n",
       "\n",
       "       median_house_value  \n",
       "count        20433.000000  \n",
       "mean        206864.413155  \n",
       "std         115435.667099  \n",
       "min          14999.000000  \n",
       "25%         119500.000000  \n",
       "50%         179700.000000  \n",
       "75%         264700.000000  \n",
       "max         500001.000000  "
      ]
     },
     "execution_count": 4,
     "metadata": {},
     "output_type": "execute_result"
    }
   ],
   "source": [
    "#Drop the missing values\n",
    "housing.dropna(axis=0, inplace=True)\n",
    "\n",
    "# Let's also reset the index\n",
    "housing.reset_index(inplace=True, drop=True)\n",
    "\n",
    "\n",
    "housing.describe()"
   ]
  },
  {
   "cell_type": "code",
   "execution_count": 5,
   "metadata": {},
   "outputs": [],
   "source": [
    "#Set the training and test data sets\n",
    "housing_num = housing.drop(\"ocean_proximity\", axis=1) # drop labels \n",
    "\n",
    "#Select the label\n",
    "housing_target = housing[[\"ocean_proximity\"]]"
   ]
  },
  {
   "cell_type": "code",
   "execution_count": 6,
   "metadata": {},
   "outputs": [],
   "source": [
    "from sklearn.preprocessing import StandardScaler\n",
    "\n",
    "scaler = StandardScaler()\n",
    "\n",
    "housing_num_std = scaler.fit_transform(housing_num)"
   ]
  },
  {
   "cell_type": "code",
   "execution_count": 7,
   "metadata": {},
   "outputs": [
    {
     "data": {
      "text/plain": [
       "array([[-1.32731375,  1.05171726,  0.98216331, ..., -0.97683327,\n",
       "         2.34516291,  2.12881864],\n",
       "       [-1.32232256,  1.04235526, -0.60621017, ...,  1.67037262,\n",
       "         2.33263161,  1.31362603],\n",
       "       [-1.33230494,  1.03767426,  1.85576873, ..., -0.84342665,\n",
       "         1.78293943,  1.25818254],\n",
       "       ...,\n",
       "       [-0.82320322,  1.77727236, -0.92388486, ..., -0.17377773,\n",
       "        -1.14317103, -0.99247676],\n",
       "       [-0.87311515,  1.77727236, -0.84446619, ..., -0.39350628,\n",
       "        -1.05513604, -1.05831591],\n",
       "       [-0.83318561,  1.74918635, -1.00330353, ...,  0.07995643,\n",
       "        -0.78060586, -1.01759959]])"
      ]
     },
     "execution_count": 7,
     "metadata": {},
     "output_type": "execute_result"
    }
   ],
   "source": [
    "housing_num_std"
   ]
  },
  {
   "cell_type": "code",
   "execution_count": 8,
   "metadata": {
    "scrolled": true
   },
   "outputs": [
    {
     "data": {
      "text/plain": [
       "(20433, 9)"
      ]
     },
     "execution_count": 8,
     "metadata": {},
     "output_type": "execute_result"
    }
   ],
   "source": [
    "housing_num_std.shape"
   ]
  },
  {
   "cell_type": "code",
   "execution_count": 9,
   "metadata": {},
   "outputs": [
    {
     "data": {
      "text/plain": [
       "array([[3.],\n",
       "       [3.],\n",
       "       [3.],\n",
       "       [3.],\n",
       "       [3.],\n",
       "       [3.],\n",
       "       [3.],\n",
       "       [3.],\n",
       "       [3.],\n",
       "       [3.]])"
      ]
     },
     "execution_count": 9,
     "metadata": {},
     "output_type": "execute_result"
    }
   ],
   "source": [
    "from sklearn.preprocessing import OrdinalEncoder\n",
    "\n",
    "ordinal_encoder = OrdinalEncoder()\n",
    "\n",
    "housing_labels_ord = ordinal_encoder.fit_transform(housing_target)\n",
    "\n",
    "housing_labels_ord[:10]"
   ]
  },
  {
   "cell_type": "code",
   "execution_count": 10,
   "metadata": {},
   "outputs": [
    {
     "data": {
      "text/html": [
       "<div>\n",
       "<style scoped>\n",
       "    .dataframe tbody tr th:only-of-type {\n",
       "        vertical-align: middle;\n",
       "    }\n",
       "\n",
       "    .dataframe tbody tr th {\n",
       "        vertical-align: top;\n",
       "    }\n",
       "\n",
       "    .dataframe thead th {\n",
       "        text-align: right;\n",
       "    }\n",
       "</style>\n",
       "<table border=\"1\" class=\"dataframe\">\n",
       "  <thead>\n",
       "    <tr style=\"text-align: right;\">\n",
       "      <th></th>\n",
       "      <th>ocean_proximity</th>\n",
       "    </tr>\n",
       "  </thead>\n",
       "  <tbody>\n",
       "    <tr>\n",
       "      <th>0</th>\n",
       "      <td>NEAR BAY</td>\n",
       "    </tr>\n",
       "    <tr>\n",
       "      <th>1</th>\n",
       "      <td>NEAR BAY</td>\n",
       "    </tr>\n",
       "    <tr>\n",
       "      <th>2</th>\n",
       "      <td>NEAR BAY</td>\n",
       "    </tr>\n",
       "    <tr>\n",
       "      <th>3</th>\n",
       "      <td>NEAR BAY</td>\n",
       "    </tr>\n",
       "    <tr>\n",
       "      <th>4</th>\n",
       "      <td>NEAR BAY</td>\n",
       "    </tr>\n",
       "    <tr>\n",
       "      <th>5</th>\n",
       "      <td>NEAR BAY</td>\n",
       "    </tr>\n",
       "    <tr>\n",
       "      <th>6</th>\n",
       "      <td>NEAR BAY</td>\n",
       "    </tr>\n",
       "    <tr>\n",
       "      <th>7</th>\n",
       "      <td>NEAR BAY</td>\n",
       "    </tr>\n",
       "    <tr>\n",
       "      <th>8</th>\n",
       "      <td>NEAR BAY</td>\n",
       "    </tr>\n",
       "    <tr>\n",
       "      <th>9</th>\n",
       "      <td>NEAR BAY</td>\n",
       "    </tr>\n",
       "  </tbody>\n",
       "</table>\n",
       "</div>"
      ],
      "text/plain": [
       "  ocean_proximity\n",
       "0        NEAR BAY\n",
       "1        NEAR BAY\n",
       "2        NEAR BAY\n",
       "3        NEAR BAY\n",
       "4        NEAR BAY\n",
       "5        NEAR BAY\n",
       "6        NEAR BAY\n",
       "7        NEAR BAY\n",
       "8        NEAR BAY\n",
       "9        NEAR BAY"
      ]
     },
     "execution_count": 10,
     "metadata": {},
     "output_type": "execute_result"
    }
   ],
   "source": [
    "housing_target[:10]"
   ]
  },
  {
   "cell_type": "code",
   "execution_count": 11,
   "metadata": {},
   "outputs": [
    {
     "data": {
      "text/plain": [
       "dtype('float64')"
      ]
     },
     "execution_count": 11,
     "metadata": {},
     "output_type": "execute_result"
    }
   ],
   "source": [
    "# Data type is float. It needs to be integer\n",
    "housing_labels_ord.dtype"
   ]
  },
  {
   "cell_type": "code",
   "execution_count": 12,
   "metadata": {},
   "outputs": [
    {
     "data": {
      "text/plain": [
       "dtype('int32')"
      ]
     },
     "execution_count": 12,
     "metadata": {},
     "output_type": "execute_result"
    }
   ],
   "source": [
    "#Convert to integer\n",
    "\n",
    "housing_labels_int = housing_labels_ord.astype(int)\n",
    "\n",
    "housing_labels_int.dtype"
   ]
  },
  {
   "cell_type": "code",
   "execution_count": 13,
   "metadata": {},
   "outputs": [
    {
     "data": {
      "text/plain": [
       "(20433, 1)"
      ]
     },
     "execution_count": 13,
     "metadata": {},
     "output_type": "execute_result"
    }
   ],
   "source": [
    "housing_labels_int.shape"
   ]
  },
  {
   "cell_type": "markdown",
   "metadata": {},
   "source": [
    "# Split data (train/test)"
   ]
  },
  {
   "cell_type": "code",
   "execution_count": 14,
   "metadata": {},
   "outputs": [],
   "source": [
    "from sklearn.model_selection import train_test_split\n",
    "\n",
    "train_x, test_x, train_y, test_y = train_test_split(housing_num_std, housing_labels_int, test_size=0.3)"
   ]
  },
  {
   "cell_type": "markdown",
   "metadata": {},
   "source": [
    "# Multiclass classification using Keras\n",
    "\n"
   ]
  },
  {
   "cell_type": "code",
   "execution_count": 15,
   "metadata": {},
   "outputs": [],
   "source": [
    "from tensorflow import keras"
   ]
  },
  {
   "cell_type": "code",
   "execution_count": 16,
   "metadata": {},
   "outputs": [],
   "source": [
    "from tensorflow.keras.models import Sequential\n",
    "from tensorflow.keras.layers import Dense\n",
    "from tensorflow.keras.layers import Dropout\n",
    "\n",
    "# fix random seed for reproducibility\n",
    "np.random.seed(42)"
   ]
  },
  {
   "cell_type": "code",
   "execution_count": 17,
   "metadata": {},
   "outputs": [],
   "source": [
    "#Define the model: for multi-class\n",
    "\n",
    "model = Sequential()\n",
    "\n",
    "model.add(Dense(50, input_dim=9, activation='relu'))\n",
    "model.add(Dense(25, activation='relu'))\n",
    "model.add(Dense(10, activation='relu'))\n",
    "\n",
    "#final layer: there has to be 5 nodes with softmax (because we have 5 categories)\n",
    "model.add(Dense(5, activation='softmax'))\n"
   ]
  },
  {
   "cell_type": "code",
   "execution_count": 18,
   "metadata": {},
   "outputs": [
    {
     "name": "stderr",
     "output_type": "stream",
     "text": [
      "C:\\Users\\tarunvakkalagadda\\Anaconda3\\envs\\myenv1\\lib\\site-packages\\tensorflow\\python\\keras\\optimizer_v2\\optimizer_v2.py:375: UserWarning: The `lr` argument is deprecated, use `learning_rate` instead.\n",
      "  \"The `lr` argument is deprecated, use `learning_rate` instead.\")\n"
     ]
    }
   ],
   "source": [
    "# Compile model\n",
    "\n",
    "#Optimizer:\n",
    "sgd = keras.optimizers.SGD(lr=0.05)\n",
    "\n",
    "\n",
    "#You need to use \"categorical_crossentropy\" for mutli-class\n",
    "#but since our target is ordinal, we need to use \"sparse_...\"\n",
    "#if it is binary classification, then use binary_crossentropy\n",
    "\n",
    "model.compile(loss='sparse_categorical_crossentropy', optimizer=sgd, metrics=['accuracy'])"
   ]
  },
  {
   "cell_type": "code",
   "execution_count": 19,
   "metadata": {},
   "outputs": [
    {
     "name": "stdout",
     "output_type": "stream",
     "text": [
      "Epoch 1/100\n",
      "144/144 [==============================] - 1s 714us/step - loss: 1.1812 - accuracy: 0.5181\n",
      "Epoch 2/100\n",
      "144/144 [==============================] - 0s 841us/step - loss: 0.8544 - accuracy: 0.6571\n",
      "Epoch 3/100\n",
      "144/144 [==============================] - 0s 930us/step - loss: 0.6667 - accuracy: 0.7635\n",
      "Epoch 4/100\n",
      "144/144 [==============================] - 0s 848us/step - loss: 0.5609 - accuracy: 0.7924\n",
      "Epoch 5/100\n",
      "144/144 [==============================] - 0s 874us/step - loss: 0.4813 - accuracy: 0.8003\n",
      "Epoch 6/100\n",
      "144/144 [==============================] - ETA: 0s - loss: 0.4099 - accuracy: 0.84 - 0s 786us/step - loss: 0.4106 - accuracy: 0.8412\n",
      "Epoch 7/100\n",
      "144/144 [==============================] - 0s 919us/step - loss: 0.3833 - accuracy: 0.8516\n",
      "Epoch 8/100\n",
      "144/144 [==============================] - 0s 1ms/step - loss: 0.3744 - accuracy: 0.8530\n",
      "Epoch 9/100\n",
      "144/144 [==============================] - 0s 895us/step - loss: 0.3843 - accuracy: 0.8533\n",
      "Epoch 10/100\n",
      "144/144 [==============================] - 0s 892us/step - loss: 0.3625 - accuracy: 0.8578\n",
      "Epoch 11/100\n",
      "144/144 [==============================] - 0s 1ms/step - loss: 0.3315 - accuracy: 0.8683\n",
      "Epoch 12/100\n",
      "144/144 [==============================] - 0s 998us/step - loss: 0.3346 - accuracy: 0.8693\n",
      "Epoch 13/100\n",
      "144/144 [==============================] - 0s 900us/step - loss: 0.3537 - accuracy: 0.8673\n",
      "Epoch 14/100\n",
      "144/144 [==============================] - 0s 851us/step - loss: 0.3275 - accuracy: 0.8702\n",
      "Epoch 15/100\n",
      "144/144 [==============================] - 0s 1ms/step - loss: 0.3169 - accuracy: 0.8713\n",
      "Epoch 16/100\n",
      "144/144 [==============================] - 0s 881us/step - loss: 0.3070 - accuracy: 0.8763\n",
      "Epoch 17/100\n",
      "144/144 [==============================] - 0s 829us/step - loss: 0.3024 - accuracy: 0.8814\n",
      "Epoch 18/100\n",
      "144/144 [==============================] - 0s 886us/step - loss: 0.2931 - accuracy: 0.8821\n",
      "Epoch 19/100\n",
      "144/144 [==============================] - 0s 922us/step - loss: 0.2954 - accuracy: 0.8825\n",
      "Epoch 20/100\n",
      "144/144 [==============================] - 0s 1ms/step - loss: 0.2933 - accuracy: 0.8826\n",
      "Epoch 21/100\n",
      "144/144 [==============================] - 0s 948us/step - loss: 0.2951 - accuracy: 0.8816\n",
      "Epoch 22/100\n",
      "144/144 [==============================] - 0s 873us/step - loss: 0.2842 - accuracy: 0.8845\n",
      "Epoch 23/100\n",
      "144/144 [==============================] - 0s 1ms/step - loss: 0.3584 - accuracy: 0.8682\n",
      "Epoch 24/100\n",
      "144/144 [==============================] - 0s 982us/step - loss: 0.2823 - accuracy: 0.8888\n",
      "Epoch 25/100\n",
      "144/144 [==============================] - 0s 907us/step - loss: 0.2760 - accuracy: 0.8884\n",
      "Epoch 26/100\n",
      "144/144 [==============================] - 0s 858us/step - loss: 0.2709 - accuracy: 0.8909\n",
      "Epoch 27/100\n",
      "144/144 [==============================] - 0s 1ms/step - loss: 0.2706 - accuracy: 0.8897\n",
      "Epoch 28/100\n",
      "144/144 [==============================] - 0s 1ms/step - loss: 0.2607 - accuracy: 0.8942\n",
      "Epoch 29/100\n",
      "144/144 [==============================] - 0s 781us/step - loss: 0.2770 - accuracy: 0.8893\n",
      "Epoch 30/100\n",
      "144/144 [==============================] - 0s 774us/step - loss: 0.2538 - accuracy: 0.8955\n",
      "Epoch 31/100\n",
      "144/144 [==============================] - 0s 806us/step - loss: 0.2534 - accuracy: 0.8978\n",
      "Epoch 32/100\n",
      "144/144 [==============================] - 0s 1ms/step - loss: 0.2466 - accuracy: 0.9013\n",
      "Epoch 33/100\n",
      "144/144 [==============================] - 0s 942us/step - loss: 0.2485 - accuracy: 0.9016\n",
      "Epoch 34/100\n",
      "144/144 [==============================] - 0s 809us/step - loss: 0.2511 - accuracy: 0.8982\n",
      "Epoch 35/100\n",
      "144/144 [==============================] - 0s 850us/step - loss: 0.2475 - accuracy: 0.9018\n",
      "Epoch 36/100\n",
      "144/144 [==============================] - 0s 1ms/step - loss: 0.2360 - accuracy: 0.9051\n",
      "Epoch 37/100\n",
      "144/144 [==============================] - 0s 1ms/step - loss: 0.2339 - accuracy: 0.9058\n",
      "Epoch 38/100\n",
      "144/144 [==============================] - 0s 914us/step - loss: 0.2304 - accuracy: 0.9082\n",
      "Epoch 39/100\n",
      "144/144 [==============================] - 0s 893us/step - loss: 0.2550 - accuracy: 0.9045\n",
      "Epoch 40/100\n",
      "144/144 [==============================] - 0s 772us/step - loss: 0.2369 - accuracy: 0.9062\n",
      "Epoch 41/100\n",
      "144/144 [==============================] - 0s 1ms/step - loss: 0.2230 - accuracy: 0.9089\n",
      "Epoch 42/100\n",
      "144/144 [==============================] - 0s 834us/step - loss: 0.2173 - accuracy: 0.9116\n",
      "Epoch 43/100\n",
      "144/144 [==============================] - 0s 835us/step - loss: 0.2308 - accuracy: 0.9073\n",
      "Epoch 44/100\n",
      "144/144 [==============================] - 0s 809us/step - loss: 0.2595 - accuracy: 0.9046\n",
      "Epoch 45/100\n",
      "144/144 [==============================] - 0s 942us/step - loss: 0.2145 - accuracy: 0.9146\n",
      "Epoch 46/100\n",
      "144/144 [==============================] - 0s 972us/step - loss: 0.2254 - accuracy: 0.9076\n",
      "Epoch 47/100\n",
      "144/144 [==============================] - 0s 872us/step - loss: 0.2044 - accuracy: 0.9199\n",
      "Epoch 48/100\n",
      "144/144 [==============================] - 0s 704us/step - loss: 0.2176 - accuracy: 0.9151\n",
      "Epoch 49/100\n",
      "144/144 [==============================] - 0s 879us/step - loss: 0.2058 - accuracy: 0.9158\n",
      "Epoch 50/100\n",
      "144/144 [==============================] - 0s 1ms/step - loss: 0.2041 - accuracy: 0.9167\n",
      "Epoch 51/100\n",
      "144/144 [==============================] - 0s 883us/step - loss: 0.2063 - accuracy: 0.9144\n",
      "Epoch 52/100\n",
      "144/144 [==============================] - 0s 781us/step - loss: 0.2062 - accuracy: 0.9178\n",
      "Epoch 53/100\n",
      "144/144 [==============================] - 0s 1ms/step - loss: 0.2020 - accuracy: 0.9195: 0s - loss: 0.2089 - accuracy: 0.\n",
      "Epoch 54/100\n",
      "144/144 [==============================] - 0s 823us/step - loss: 0.2682 - accuracy: 0.9032\n",
      "Epoch 55/100\n",
      "144/144 [==============================] - 0s 989us/step - loss: 0.2004 - accuracy: 0.9175\n",
      "Epoch 56/100\n",
      "144/144 [==============================] - 0s 779us/step - loss: 0.1928 - accuracy: 0.9226\n",
      "Epoch 57/100\n",
      "144/144 [==============================] - 0s 701us/step - loss: 0.1988 - accuracy: 0.9205\n",
      "Epoch 58/100\n",
      "144/144 [==============================] - 0s 807us/step - loss: 0.1950 - accuracy: 0.9211\n",
      "Epoch 59/100\n",
      "144/144 [==============================] - 0s 767us/step - loss: 0.1891 - accuracy: 0.9237\n",
      "Epoch 60/100\n",
      "144/144 [==============================] - 0s 1ms/step - loss: 0.1949 - accuracy: 0.9185\n",
      "Epoch 61/100\n",
      "144/144 [==============================] - 0s 1ms/step - loss: 0.1914 - accuracy: 0.9215\n",
      "Epoch 62/100\n",
      "144/144 [==============================] - 0s 1ms/step - loss: 0.1892 - accuracy: 0.9220\n",
      "Epoch 63/100\n",
      "144/144 [==============================] - 0s 1ms/step - loss: 0.1846 - accuracy: 0.9249\n",
      "Epoch 64/100\n",
      "144/144 [==============================] - 0s 824us/step - loss: 0.2059 - accuracy: 0.9200\n",
      "Epoch 65/100\n",
      "144/144 [==============================] - 0s 900us/step - loss: 0.1894 - accuracy: 0.9222\n",
      "Epoch 66/100\n",
      "144/144 [==============================] - 0s 854us/step - loss: 0.1780 - accuracy: 0.9274\n",
      "Epoch 67/100\n",
      "144/144 [==============================] - 0s 1ms/step - loss: 0.1795 - accuracy: 0.9264\n",
      "Epoch 68/100\n",
      "144/144 [==============================] - 0s 1ms/step - loss: 0.1809 - accuracy: 0.9265\n",
      "Epoch 69/100\n",
      "144/144 [==============================] - 0s 886us/step - loss: 0.1824 - accuracy: 0.9263\n",
      "Epoch 70/100\n",
      "144/144 [==============================] - 0s 1ms/step - loss: 0.1816 - accuracy: 0.9264\n",
      "Epoch 71/100\n",
      "144/144 [==============================] - 0s 1ms/step - loss: 0.1785 - accuracy: 0.9265\n",
      "Epoch 72/100\n",
      "144/144 [==============================] - 0s 990us/step - loss: 0.1782 - accuracy: 0.9262\n",
      "Epoch 73/100\n",
      "144/144 [==============================] - 0s 1ms/step - loss: 0.1965 - accuracy: 0.9211\n",
      "Epoch 74/100\n",
      "144/144 [==============================] - 0s 1ms/step - loss: 0.2208 - accuracy: 0.9102\n",
      "Epoch 75/100\n",
      "144/144 [==============================] - 0s 969us/step - loss: 0.1734 - accuracy: 0.9298\n",
      "Epoch 76/100\n",
      "144/144 [==============================] - 0s 949us/step - loss: 0.1775 - accuracy: 0.9280\n",
      "Epoch 77/100\n",
      "144/144 [==============================] - 0s 1ms/step - loss: 0.1783 - accuracy: 0.9269\n",
      "Epoch 78/100\n",
      "144/144 [==============================] - 0s 893us/step - loss: 0.1775 - accuracy: 0.9263\n",
      "Epoch 79/100\n",
      "144/144 [==============================] - 0s 752us/step - loss: 0.1864 - accuracy: 0.9232\n",
      "Epoch 80/100\n",
      "144/144 [==============================] - 0s 822us/step - loss: 0.1693 - accuracy: 0.9291\n",
      "Epoch 81/100\n",
      "144/144 [==============================] - 0s 786us/step - loss: 0.1720 - accuracy: 0.9294\n",
      "Epoch 82/100\n",
      "144/144 [==============================] - 0s 802us/step - loss: 0.1741 - accuracy: 0.9281\n",
      "Epoch 83/100\n",
      "144/144 [==============================] - 0s 745us/step - loss: 0.2440 - accuracy: 0.9192\n",
      "Epoch 84/100\n",
      "144/144 [==============================] - 0s 760us/step - loss: 0.1715 - accuracy: 0.9288\n",
      "Epoch 85/100\n",
      "144/144 [==============================] - 0s 917us/step - loss: 0.1768 - accuracy: 0.9276\n",
      "Epoch 86/100\n",
      "144/144 [==============================] - 0s 830us/step - loss: 0.1701 - accuracy: 0.9304\n",
      "Epoch 87/100\n",
      "144/144 [==============================] - 0s 785us/step - loss: 0.1746 - accuracy: 0.9271\n",
      "Epoch 88/100\n",
      "144/144 [==============================] - 0s 677us/step - loss: 0.1709 - accuracy: 0.9316\n",
      "Epoch 89/100\n",
      "144/144 [==============================] - 0s 770us/step - loss: 0.1690 - accuracy: 0.9309\n",
      "Epoch 90/100\n",
      "144/144 [==============================] - 0s 795us/step - loss: 0.1626 - accuracy: 0.9323\n",
      "Epoch 91/100\n",
      "144/144 [==============================] - 0s 801us/step - loss: 0.1667 - accuracy: 0.9302\n",
      "Epoch 92/100\n",
      "144/144 [==============================] - 0s 670us/step - loss: 0.1668 - accuracy: 0.9313\n",
      "Epoch 93/100\n",
      "144/144 [==============================] - 0s 718us/step - loss: 0.1641 - accuracy: 0.9308\n",
      "Epoch 94/100\n",
      "144/144 [==============================] - 0s 673us/step - loss: 0.1647 - accuracy: 0.9333\n",
      "Epoch 95/100\n",
      "144/144 [==============================] - 0s 837us/step - loss: 0.1680 - accuracy: 0.9309\n",
      "Epoch 96/100\n",
      "144/144 [==============================] - 0s 812us/step - loss: 0.1621 - accuracy: 0.9334\n",
      "Epoch 97/100\n",
      "144/144 [==============================] - 0s 716us/step - loss: 0.1585 - accuracy: 0.9358\n",
      "Epoch 98/100\n",
      "144/144 [==============================] - 0s 1ms/step - loss: 0.1640 - accuracy: 0.9304\n",
      "Epoch 99/100\n",
      "144/144 [==============================] - 0s 963us/step - loss: 0.1642 - accuracy: 0.9341\n",
      "Epoch 100/100\n",
      "144/144 [==============================] - 0s 690us/step - loss: 0.1648 - accuracy: 0.9346\n"
     ]
    },
    {
     "data": {
      "text/plain": [
       "<tensorflow.python.keras.callbacks.History at 0x1f828481978>"
      ]
     },
     "execution_count": 19,
     "metadata": {},
     "output_type": "execute_result"
    }
   ],
   "source": [
    "# Fit the model\n",
    "\n",
    "model.fit(train_x, train_y, epochs=100, batch_size=100)"
   ]
  },
  {
   "cell_type": "code",
   "execution_count": 20,
   "metadata": {},
   "outputs": [
    {
     "name": "stdout",
     "output_type": "stream",
     "text": [
      "192/192 [==============================] - 0s 622us/step - loss: 0.3951 - accuracy: 0.8584\n",
      "\n",
      "accuracy: 85.84%\n"
     ]
    }
   ],
   "source": [
    "# evaluate the model\n",
    "\n",
    "scores = model.evaluate(test_x, test_y)\n",
    "print(\"\\n%s: %.2f%%\" % (model.metrics_names[1], scores[1]*100))\n"
   ]
  },
  {
   "cell_type": "markdown",
   "metadata": {},
   "source": [
    "# MLP"
   ]
  },
  {
   "cell_type": "code",
   "execution_count": 31,
   "metadata": {},
   "outputs": [
    {
     "name": "stderr",
     "output_type": "stream",
     "text": [
      "C:\\Users\\tarunvakkalagadda\\Anaconda3\\envs\\myenv1\\lib\\site-packages\\sklearn\\utils\\validation.py:72: DataConversionWarning: A column-vector y was passed when a 1d array was expected. Please change the shape of y to (n_samples, ), for example using ravel().\n",
      "  return f(**kwargs)\n"
     ]
    },
    {
     "data": {
      "text/plain": [
       "MLPClassifier(hidden_layer_sizes=(50, 25, 10), max_iter=1000)"
      ]
     },
     "execution_count": 31,
     "metadata": {},
     "output_type": "execute_result"
    }
   ],
   "source": [
    "from sklearn.neural_network import MLPClassifier\n",
    "\n",
    "mlp_clf = MLPClassifier(hidden_layer_sizes=(50,25,10),\n",
    "                       max_iter=1000)\n",
    "\n",
    "mlp_clf.fit(train_x, train_y)"
   ]
  },
  {
   "cell_type": "code",
   "execution_count": 32,
   "metadata": {},
   "outputs": [
    {
     "name": "stdout",
     "output_type": "stream",
     "text": [
      "0.933768352365416\n"
     ]
    }
   ],
   "source": [
    "test_y_pred = mlp_clf.predict(test_x)\n",
    "\n",
    "print(accuracy_score(test_y, test_y_pred))"
   ]
  },
  {
   "cell_type": "markdown",
   "metadata": {},
   "source": [
    "By using the same number of nodes in each hidden layers in the above models , we can observe that the MLP performs better."
   ]
  }
 ],
 "metadata": {
  "kernelspec": {
   "display_name": "Python 3",
   "language": "python",
   "name": "python3"
  },
  "language_info": {
   "codemirror_mode": {
    "name": "ipython",
    "version": 3
   },
   "file_extension": ".py",
   "mimetype": "text/x-python",
   "name": "python",
   "nbconvert_exporter": "python",
   "pygments_lexer": "ipython3",
   "version": "3.8.8"
  },
  "nav_menu": {
   "height": "279px",
   "width": "309px"
  },
  "toc": {
   "nav_menu": {},
   "number_sections": true,
   "sideBar": true,
   "skip_h1_title": false,
   "toc_cell": false,
   "toc_position": {},
   "toc_section_display": "block",
   "toc_window_display": false
  }
 },
 "nbformat": 4,
 "nbformat_minor": 1
}
