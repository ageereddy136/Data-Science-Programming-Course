{
  "nbformat": 4,
  "nbformat_minor": 0,
  "metadata": {
    "colab": {
      "name": "DSP_QUIZ2_Q4.ipynb",
      "provenance": [],
      "collapsed_sections": []
    },
    "kernelspec": {
      "name": "python3",
      "display_name": "Python 3"
    },
    "language_info": {
      "name": "python"
    }
  },
  "cells": [
    {
      "cell_type": "code",
      "metadata": {
        "id": "KOSZgHRIFpSv"
      },
      "source": [
        "import numpy as np\n",
        "import os\n",
        "import pandas as pd\n",
        "import tensorflow as tf"
      ],
      "execution_count": 33,
      "outputs": []
    },
    {
      "cell_type": "code",
      "metadata": {
        "colab": {
          "base_uri": "https://localhost:8080/",
          "height": 224
        },
        "id": "KfpzTkq_F4OT",
        "outputId": "d9cf0df3-e02b-490c-ec4d-ccd439974566"
      },
      "source": [
        "#Data\n",
        "housing = pd.read_csv(\"housing.csv\")\n",
        "housing.head()"
      ],
      "execution_count": 34,
      "outputs": [
        {
          "output_type": "execute_result",
          "data": {
            "text/html": [
              "<div>\n",
              "<style scoped>\n",
              "    .dataframe tbody tr th:only-of-type {\n",
              "        vertical-align: middle;\n",
              "    }\n",
              "\n",
              "    .dataframe tbody tr th {\n",
              "        vertical-align: top;\n",
              "    }\n",
              "\n",
              "    .dataframe thead th {\n",
              "        text-align: right;\n",
              "    }\n",
              "</style>\n",
              "<table border=\"1\" class=\"dataframe\">\n",
              "  <thead>\n",
              "    <tr style=\"text-align: right;\">\n",
              "      <th></th>\n",
              "      <th>longitude</th>\n",
              "      <th>latitude</th>\n",
              "      <th>housing_median_age</th>\n",
              "      <th>total_rooms</th>\n",
              "      <th>total_bedrooms</th>\n",
              "      <th>population</th>\n",
              "      <th>households</th>\n",
              "      <th>median_income</th>\n",
              "      <th>median_house_value</th>\n",
              "      <th>ocean_proximity</th>\n",
              "    </tr>\n",
              "  </thead>\n",
              "  <tbody>\n",
              "    <tr>\n",
              "      <th>0</th>\n",
              "      <td>-122.23</td>\n",
              "      <td>37.88</td>\n",
              "      <td>41.0</td>\n",
              "      <td>880.0</td>\n",
              "      <td>129.0</td>\n",
              "      <td>322.0</td>\n",
              "      <td>126.0</td>\n",
              "      <td>8.3252</td>\n",
              "      <td>452600.0</td>\n",
              "      <td>NEAR BAY</td>\n",
              "    </tr>\n",
              "    <tr>\n",
              "      <th>1</th>\n",
              "      <td>-122.22</td>\n",
              "      <td>37.86</td>\n",
              "      <td>21.0</td>\n",
              "      <td>7099.0</td>\n",
              "      <td>1106.0</td>\n",
              "      <td>2401.0</td>\n",
              "      <td>1138.0</td>\n",
              "      <td>8.3014</td>\n",
              "      <td>358500.0</td>\n",
              "      <td>NEAR BAY</td>\n",
              "    </tr>\n",
              "    <tr>\n",
              "      <th>2</th>\n",
              "      <td>-122.24</td>\n",
              "      <td>37.85</td>\n",
              "      <td>52.0</td>\n",
              "      <td>1467.0</td>\n",
              "      <td>190.0</td>\n",
              "      <td>496.0</td>\n",
              "      <td>177.0</td>\n",
              "      <td>7.2574</td>\n",
              "      <td>352100.0</td>\n",
              "      <td>NEAR BAY</td>\n",
              "    </tr>\n",
              "    <tr>\n",
              "      <th>3</th>\n",
              "      <td>-122.25</td>\n",
              "      <td>37.85</td>\n",
              "      <td>52.0</td>\n",
              "      <td>1274.0</td>\n",
              "      <td>235.0</td>\n",
              "      <td>558.0</td>\n",
              "      <td>219.0</td>\n",
              "      <td>5.6431</td>\n",
              "      <td>341300.0</td>\n",
              "      <td>NEAR BAY</td>\n",
              "    </tr>\n",
              "    <tr>\n",
              "      <th>4</th>\n",
              "      <td>-122.25</td>\n",
              "      <td>37.85</td>\n",
              "      <td>52.0</td>\n",
              "      <td>1627.0</td>\n",
              "      <td>280.0</td>\n",
              "      <td>565.0</td>\n",
              "      <td>259.0</td>\n",
              "      <td>3.8462</td>\n",
              "      <td>342200.0</td>\n",
              "      <td>NEAR BAY</td>\n",
              "    </tr>\n",
              "  </tbody>\n",
              "</table>\n",
              "</div>"
            ],
            "text/plain": [
              "   longitude  latitude  ...  median_house_value  ocean_proximity\n",
              "0    -122.23     37.88  ...            452600.0         NEAR BAY\n",
              "1    -122.22     37.86  ...            358500.0         NEAR BAY\n",
              "2    -122.24     37.85  ...            352100.0         NEAR BAY\n",
              "3    -122.25     37.85  ...            341300.0         NEAR BAY\n",
              "4    -122.25     37.85  ...            342200.0         NEAR BAY\n",
              "\n",
              "[5 rows x 10 columns]"
            ]
          },
          "metadata": {},
          "execution_count": 34
        }
      ]
    },
    {
      "cell_type": "code",
      "metadata": {
        "colab": {
          "base_uri": "https://localhost:8080/",
          "height": 317
        },
        "id": "iDxXeUZXF7lb",
        "outputId": "bf295ee1-0e90-4c38-b67d-4251b94243b7"
      },
      "source": [
        "#Drop the missing values\n",
        "housing.dropna(axis=0, inplace=True)\n",
        "\n",
        "# Let's also reset the index\n",
        "housing.reset_index(inplace=True, drop=True)\n",
        "\n",
        "\n",
        "housing.describe()"
      ],
      "execution_count": 35,
      "outputs": [
        {
          "output_type": "execute_result",
          "data": {
            "text/html": [
              "<div>\n",
              "<style scoped>\n",
              "    .dataframe tbody tr th:only-of-type {\n",
              "        vertical-align: middle;\n",
              "    }\n",
              "\n",
              "    .dataframe tbody tr th {\n",
              "        vertical-align: top;\n",
              "    }\n",
              "\n",
              "    .dataframe thead th {\n",
              "        text-align: right;\n",
              "    }\n",
              "</style>\n",
              "<table border=\"1\" class=\"dataframe\">\n",
              "  <thead>\n",
              "    <tr style=\"text-align: right;\">\n",
              "      <th></th>\n",
              "      <th>longitude</th>\n",
              "      <th>latitude</th>\n",
              "      <th>housing_median_age</th>\n",
              "      <th>total_rooms</th>\n",
              "      <th>total_bedrooms</th>\n",
              "      <th>population</th>\n",
              "      <th>households</th>\n",
              "      <th>median_income</th>\n",
              "      <th>median_house_value</th>\n",
              "    </tr>\n",
              "  </thead>\n",
              "  <tbody>\n",
              "    <tr>\n",
              "      <th>count</th>\n",
              "      <td>20433.000000</td>\n",
              "      <td>20433.000000</td>\n",
              "      <td>20433.000000</td>\n",
              "      <td>20433.000000</td>\n",
              "      <td>20433.000000</td>\n",
              "      <td>20433.000000</td>\n",
              "      <td>20433.000000</td>\n",
              "      <td>20433.000000</td>\n",
              "      <td>20433.000000</td>\n",
              "    </tr>\n",
              "    <tr>\n",
              "      <th>mean</th>\n",
              "      <td>-119.570689</td>\n",
              "      <td>35.633221</td>\n",
              "      <td>28.633094</td>\n",
              "      <td>2636.504233</td>\n",
              "      <td>537.870553</td>\n",
              "      <td>1424.946949</td>\n",
              "      <td>499.433465</td>\n",
              "      <td>3.871162</td>\n",
              "      <td>206864.413155</td>\n",
              "    </tr>\n",
              "    <tr>\n",
              "      <th>std</th>\n",
              "      <td>2.003578</td>\n",
              "      <td>2.136348</td>\n",
              "      <td>12.591805</td>\n",
              "      <td>2185.269567</td>\n",
              "      <td>421.385070</td>\n",
              "      <td>1133.208490</td>\n",
              "      <td>382.299226</td>\n",
              "      <td>1.899291</td>\n",
              "      <td>115435.667099</td>\n",
              "    </tr>\n",
              "    <tr>\n",
              "      <th>min</th>\n",
              "      <td>-124.350000</td>\n",
              "      <td>32.540000</td>\n",
              "      <td>1.000000</td>\n",
              "      <td>2.000000</td>\n",
              "      <td>1.000000</td>\n",
              "      <td>3.000000</td>\n",
              "      <td>1.000000</td>\n",
              "      <td>0.499900</td>\n",
              "      <td>14999.000000</td>\n",
              "    </tr>\n",
              "    <tr>\n",
              "      <th>25%</th>\n",
              "      <td>-121.800000</td>\n",
              "      <td>33.930000</td>\n",
              "      <td>18.000000</td>\n",
              "      <td>1450.000000</td>\n",
              "      <td>296.000000</td>\n",
              "      <td>787.000000</td>\n",
              "      <td>280.000000</td>\n",
              "      <td>2.563700</td>\n",
              "      <td>119500.000000</td>\n",
              "    </tr>\n",
              "    <tr>\n",
              "      <th>50%</th>\n",
              "      <td>-118.490000</td>\n",
              "      <td>34.260000</td>\n",
              "      <td>29.000000</td>\n",
              "      <td>2127.000000</td>\n",
              "      <td>435.000000</td>\n",
              "      <td>1166.000000</td>\n",
              "      <td>409.000000</td>\n",
              "      <td>3.536500</td>\n",
              "      <td>179700.000000</td>\n",
              "    </tr>\n",
              "    <tr>\n",
              "      <th>75%</th>\n",
              "      <td>-118.010000</td>\n",
              "      <td>37.720000</td>\n",
              "      <td>37.000000</td>\n",
              "      <td>3143.000000</td>\n",
              "      <td>647.000000</td>\n",
              "      <td>1722.000000</td>\n",
              "      <td>604.000000</td>\n",
              "      <td>4.744000</td>\n",
              "      <td>264700.000000</td>\n",
              "    </tr>\n",
              "    <tr>\n",
              "      <th>max</th>\n",
              "      <td>-114.310000</td>\n",
              "      <td>41.950000</td>\n",
              "      <td>52.000000</td>\n",
              "      <td>39320.000000</td>\n",
              "      <td>6445.000000</td>\n",
              "      <td>35682.000000</td>\n",
              "      <td>6082.000000</td>\n",
              "      <td>15.000100</td>\n",
              "      <td>500001.000000</td>\n",
              "    </tr>\n",
              "  </tbody>\n",
              "</table>\n",
              "</div>"
            ],
            "text/plain": [
              "          longitude      latitude  ...  median_income  median_house_value\n",
              "count  20433.000000  20433.000000  ...   20433.000000        20433.000000\n",
              "mean    -119.570689     35.633221  ...       3.871162       206864.413155\n",
              "std        2.003578      2.136348  ...       1.899291       115435.667099\n",
              "min     -124.350000     32.540000  ...       0.499900        14999.000000\n",
              "25%     -121.800000     33.930000  ...       2.563700       119500.000000\n",
              "50%     -118.490000     34.260000  ...       3.536500       179700.000000\n",
              "75%     -118.010000     37.720000  ...       4.744000       264700.000000\n",
              "max     -114.310000     41.950000  ...      15.000100       500001.000000\n",
              "\n",
              "[8 rows x 9 columns]"
            ]
          },
          "metadata": {},
          "execution_count": 35
        }
      ]
    },
    {
      "cell_type": "code",
      "metadata": {
        "id": "WL_eFFrEGCZg"
      },
      "source": [
        "#DATA CLEANING\n",
        "#Set the training and test data sets\n",
        "housing_num = housing.drop(\"ocean_proximity\", axis=1) # drop labels \n",
        "\n",
        "#Select the label\n",
        "housing_target = housing[[\"ocean_proximity\"]]\n"
      ],
      "execution_count": 36,
      "outputs": []
    },
    {
      "cell_type": "code",
      "metadata": {
        "id": "-5Q0txY0GHpS"
      },
      "source": [
        "#STANDERDISING THE DATA\n",
        "from sklearn.preprocessing import StandardScaler\n",
        "\n",
        "scaler = StandardScaler()\n",
        "\n",
        "housing_num_std = scaler.fit_transform(housing_num)"
      ],
      "execution_count": 37,
      "outputs": []
    },
    {
      "cell_type": "code",
      "metadata": {
        "colab": {
          "base_uri": "https://localhost:8080/"
        },
        "id": "_paw7PWDGLtp",
        "outputId": "f0459c93-eb1c-41df-f855-9cd5dfe5aab3"
      },
      "source": [
        "housing_num_std"
      ],
      "execution_count": 38,
      "outputs": [
        {
          "output_type": "execute_result",
          "data": {
            "text/plain": [
              "array([[-1.32731375,  1.05171726,  0.98216331, ..., -0.97683327,\n",
              "         2.34516291,  2.12881864],\n",
              "       [-1.32232256,  1.04235526, -0.60621017, ...,  1.67037262,\n",
              "         2.33263161,  1.31362603],\n",
              "       [-1.33230494,  1.03767426,  1.85576873, ..., -0.84342665,\n",
              "         1.78293943,  1.25818254],\n",
              "       ...,\n",
              "       [-0.82320322,  1.77727236, -0.92388486, ..., -0.17377773,\n",
              "        -1.14317103, -0.99247676],\n",
              "       [-0.87311515,  1.77727236, -0.84446619, ..., -0.39350628,\n",
              "        -1.05513604, -1.05831591],\n",
              "       [-0.83318561,  1.74918635, -1.00330353, ...,  0.07995643,\n",
              "        -0.78060586, -1.01759959]])"
            ]
          },
          "metadata": {},
          "execution_count": 38
        }
      ]
    },
    {
      "cell_type": "code",
      "metadata": {
        "colab": {
          "base_uri": "https://localhost:8080/"
        },
        "id": "M7I7P4NKGQ-z",
        "outputId": "60251048-75c6-468d-c69d-6db23cdaafac"
      },
      "source": [
        "housing_num_std.shape"
      ],
      "execution_count": 39,
      "outputs": [
        {
          "output_type": "execute_result",
          "data": {
            "text/plain": [
              "(20433, 9)"
            ]
          },
          "metadata": {},
          "execution_count": 39
        }
      ]
    },
    {
      "cell_type": "code",
      "metadata": {
        "id": "-MYLc79gGUYF"
      },
      "source": [
        "#USING ENCOADING TO CONVERT THE DATA TO INTEGERS"
      ],
      "execution_count": 40,
      "outputs": []
    },
    {
      "cell_type": "code",
      "metadata": {
        "colab": {
          "base_uri": "https://localhost:8080/"
        },
        "id": "JGsi9RAPGbvi",
        "outputId": "05e2bd75-d97a-4620-a904-7ec103e71843"
      },
      "source": [
        "from sklearn.preprocessing import OrdinalEncoder\n",
        "\n",
        "ordinal_encoder = OrdinalEncoder()\n",
        "\n",
        "housing_labels_ord = ordinal_encoder.fit_transform(housing_target)\n",
        "\n",
        "housing_labels_ord[:10]"
      ],
      "execution_count": 41,
      "outputs": [
        {
          "output_type": "execute_result",
          "data": {
            "text/plain": [
              "array([[3.],\n",
              "       [3.],\n",
              "       [3.],\n",
              "       [3.],\n",
              "       [3.],\n",
              "       [3.],\n",
              "       [3.],\n",
              "       [3.],\n",
              "       [3.],\n",
              "       [3.]])"
            ]
          },
          "metadata": {},
          "execution_count": 41
        }
      ]
    },
    {
      "cell_type": "code",
      "metadata": {
        "colab": {
          "base_uri": "https://localhost:8080/"
        },
        "id": "K_MoNTnHGjk-",
        "outputId": "f9aa437f-08a0-4c57-89d8-359a86a64d4f"
      },
      "source": [
        "#Converting to integer\n",
        "\n",
        "housing_labels = housing_labels_ord.astype(int)\n",
        "housing_labels.dtype"
      ],
      "execution_count": 42,
      "outputs": [
        {
          "output_type": "execute_result",
          "data": {
            "text/plain": [
              "dtype('int64')"
            ]
          },
          "metadata": {},
          "execution_count": 42
        }
      ]
    },
    {
      "cell_type": "code",
      "metadata": {
        "colab": {
          "base_uri": "https://localhost:8080/"
        },
        "id": "c5eyZcuxGlns",
        "outputId": "39123a12-a681-42b8-d862-09a5f82cdc27"
      },
      "source": [
        "housing_labels.shape"
      ],
      "execution_count": 43,
      "outputs": [
        {
          "output_type": "execute_result",
          "data": {
            "text/plain": [
              "(20433, 1)"
            ]
          },
          "metadata": {},
          "execution_count": 43
        }
      ]
    },
    {
      "cell_type": "code",
      "metadata": {
        "id": "0GWciBxLGqdU"
      },
      "source": [
        "#SPLIT THE DATA\n",
        "from sklearn.model_selection import train_test_split\n",
        "\n",
        "train_x, test_x, train_y, test_y = train_test_split(housing_num_std, housing_labels, test_size=0.3)"
      ],
      "execution_count": 44,
      "outputs": []
    },
    {
      "cell_type": "code",
      "metadata": {
        "id": "z6aVLWWlG2H6"
      },
      "source": [
        "#MULTICLASS CLASSIFICATION USING KERAS"
      ],
      "execution_count": 45,
      "outputs": []
    },
    {
      "cell_type": "code",
      "metadata": {
        "id": "lN5lIwNJG6bM"
      },
      "source": [
        "from tensorflow import keras\n",
        "from tensorflow.keras.models import Sequential\n",
        "from tensorflow.keras.layers import Dense\n",
        "from tensorflow.keras.layers import Dropout\n",
        "\n",
        "# fix random seed for reproducibility\n",
        "np.random.seed(42)"
      ],
      "execution_count": 46,
      "outputs": []
    },
    {
      "cell_type": "code",
      "metadata": {
        "id": "VsuR40VbG_5H"
      },
      "source": [
        "#Defining the model: for multi-class\n",
        "\n",
        "model = Sequential()\n",
        "\n",
        "model.add(Dense(50, input_dim=9, activation='relu'))\n",
        "model.add(Dense(25, activation='relu'))\n",
        "model.add(Dense(10, activation='relu'))\n",
        "\n",
        "#final layer: there has to be 5 nodes with softmax (because we have 5 categories)\n",
        "model.add(Dense(5, activation='softmax'))\n"
      ],
      "execution_count": 47,
      "outputs": []
    },
    {
      "cell_type": "code",
      "metadata": {
        "colab": {
          "base_uri": "https://localhost:8080/"
        },
        "id": "aXHtnNutHD_G",
        "outputId": "773d0ff5-6b9c-4270-f2c1-39c08b545b74"
      },
      "source": [
        "# Compile model\n",
        "\n",
        "#Optimizer:\n",
        "sgd = keras.optimizers.SGD(lr=0.05)\n",
        "\n",
        "\n",
        "#You need to use \"categorical_crossentropy\" for mutli-class\n",
        "#but since our target is ordinal, we need to use \"sparse_...\"\n",
        "#if it is binary classification, then use binary_crossentropy\n",
        "\n",
        "model.compile(loss='sparse_categorical_crossentropy', optimizer=sgd, metrics=['accuracy'])"
      ],
      "execution_count": 48,
      "outputs": [
        {
          "output_type": "stream",
          "name": "stderr",
          "text": [
            "/usr/local/lib/python3.7/dist-packages/keras/optimizer_v2/optimizer_v2.py:356: UserWarning: The `lr` argument is deprecated, use `learning_rate` instead.\n",
            "  \"The `lr` argument is deprecated, use `learning_rate` instead.\")\n"
          ]
        }
      ]
    },
    {
      "cell_type": "code",
      "metadata": {
        "colab": {
          "base_uri": "https://localhost:8080/"
        },
        "id": "bgHSezcLHHii",
        "outputId": "a3dd49eb-180a-43f6-df29-6e24e9c0295e"
      },
      "source": [
        "# Fit the model\n",
        "\n",
        "model.fit(train_x, train_y, epochs=100, batch_size=100)\n"
      ],
      "execution_count": 49,
      "outputs": [
        {
          "output_type": "stream",
          "name": "stdout",
          "text": [
            "Epoch 1/100\n",
            "144/144 [==============================] - 1s 1ms/step - loss: 1.1037 - accuracy: 0.5930\n",
            "Epoch 2/100\n",
            "144/144 [==============================] - 0s 2ms/step - loss: 0.7317 - accuracy: 0.7375\n",
            "Epoch 3/100\n",
            "144/144 [==============================] - 0s 1ms/step - loss: 0.6167 - accuracy: 0.7708\n",
            "Epoch 4/100\n",
            "144/144 [==============================] - 0s 1ms/step - loss: 0.5491 - accuracy: 0.7856\n",
            "Epoch 5/100\n",
            "144/144 [==============================] - 0s 1ms/step - loss: 0.4813 - accuracy: 0.8016\n",
            "Epoch 6/100\n",
            "144/144 [==============================] - 0s 1ms/step - loss: 0.4256 - accuracy: 0.8330\n",
            "Epoch 7/100\n",
            "144/144 [==============================] - 0s 2ms/step - loss: 0.3854 - accuracy: 0.8435\n",
            "Epoch 8/100\n",
            "144/144 [==============================] - 0s 1ms/step - loss: 0.3661 - accuracy: 0.8509\n",
            "Epoch 9/100\n",
            "144/144 [==============================] - 0s 1ms/step - loss: 0.3558 - accuracy: 0.8553\n",
            "Epoch 10/100\n",
            "144/144 [==============================] - 0s 1ms/step - loss: 0.3837 - accuracy: 0.8543\n",
            "Epoch 11/100\n",
            "144/144 [==============================] - 0s 1ms/step - loss: 0.3389 - accuracy: 0.8604\n",
            "Epoch 12/100\n",
            "144/144 [==============================] - 0s 1ms/step - loss: 0.3271 - accuracy: 0.8642\n",
            "Epoch 13/100\n",
            "144/144 [==============================] - 0s 1ms/step - loss: 0.3230 - accuracy: 0.8689\n",
            "Epoch 14/100\n",
            "144/144 [==============================] - 0s 1ms/step - loss: 0.3121 - accuracy: 0.8698\n",
            "Epoch 15/100\n",
            "144/144 [==============================] - 0s 1ms/step - loss: 0.3061 - accuracy: 0.8744\n",
            "Epoch 16/100\n",
            "144/144 [==============================] - 0s 1ms/step - loss: 0.3045 - accuracy: 0.8746\n",
            "Epoch 17/100\n",
            "144/144 [==============================] - 0s 1ms/step - loss: 0.3077 - accuracy: 0.8768\n",
            "Epoch 18/100\n",
            "144/144 [==============================] - 0s 1ms/step - loss: 0.2820 - accuracy: 0.8814\n",
            "Epoch 19/100\n",
            "144/144 [==============================] - 0s 1ms/step - loss: 0.2852 - accuracy: 0.8801\n",
            "Epoch 20/100\n",
            "144/144 [==============================] - 0s 1ms/step - loss: 0.2772 - accuracy: 0.8849\n",
            "Epoch 21/100\n",
            "144/144 [==============================] - 0s 1ms/step - loss: 0.2715 - accuracy: 0.8886\n",
            "Epoch 22/100\n",
            "144/144 [==============================] - 0s 1ms/step - loss: 0.2685 - accuracy: 0.8879\n",
            "Epoch 23/100\n",
            "144/144 [==============================] - 0s 1ms/step - loss: 0.2822 - accuracy: 0.8856\n",
            "Epoch 24/100\n",
            "144/144 [==============================] - 0s 1ms/step - loss: 0.2665 - accuracy: 0.8927\n",
            "Epoch 25/100\n",
            "144/144 [==============================] - 0s 1ms/step - loss: 0.2641 - accuracy: 0.8927\n",
            "Epoch 26/100\n",
            "144/144 [==============================] - 0s 1ms/step - loss: 0.2526 - accuracy: 0.8958\n",
            "Epoch 27/100\n",
            "144/144 [==============================] - 0s 1ms/step - loss: 0.2592 - accuracy: 0.8953\n",
            "Epoch 28/100\n",
            "144/144 [==============================] - 0s 1ms/step - loss: 0.2467 - accuracy: 0.9001\n",
            "Epoch 29/100\n",
            "144/144 [==============================] - 0s 1ms/step - loss: 0.2411 - accuracy: 0.9024\n",
            "Epoch 30/100\n",
            "144/144 [==============================] - 0s 1ms/step - loss: 0.2576 - accuracy: 0.8981\n",
            "Epoch 31/100\n",
            "144/144 [==============================] - 0s 1ms/step - loss: 0.2366 - accuracy: 0.9025\n",
            "Epoch 32/100\n",
            "144/144 [==============================] - 0s 1ms/step - loss: 0.2345 - accuracy: 0.9052\n",
            "Epoch 33/100\n",
            "144/144 [==============================] - 0s 1ms/step - loss: 0.2412 - accuracy: 0.9043\n",
            "Epoch 34/100\n",
            "144/144 [==============================] - 0s 1ms/step - loss: 0.2248 - accuracy: 0.9104\n",
            "Epoch 35/100\n",
            "144/144 [==============================] - 0s 1ms/step - loss: 0.2437 - accuracy: 0.9070\n",
            "Epoch 36/100\n",
            "144/144 [==============================] - 0s 1ms/step - loss: 0.2206 - accuracy: 0.9100\n",
            "Epoch 37/100\n",
            "144/144 [==============================] - 0s 1ms/step - loss: 0.2200 - accuracy: 0.9097\n",
            "Epoch 38/100\n",
            "144/144 [==============================] - 0s 1ms/step - loss: 0.2119 - accuracy: 0.9116\n",
            "Epoch 39/100\n",
            "144/144 [==============================] - 0s 1ms/step - loss: 0.2648 - accuracy: 0.9007\n",
            "Epoch 40/100\n",
            "144/144 [==============================] - 0s 1ms/step - loss: 0.2068 - accuracy: 0.9151\n",
            "Epoch 41/100\n",
            "144/144 [==============================] - 0s 1ms/step - loss: 0.2076 - accuracy: 0.9158\n",
            "Epoch 42/100\n",
            "144/144 [==============================] - 0s 1ms/step - loss: 0.2100 - accuracy: 0.9123\n",
            "Epoch 43/100\n",
            "144/144 [==============================] - 0s 1ms/step - loss: 0.2012 - accuracy: 0.9173\n",
            "Epoch 44/100\n",
            "144/144 [==============================] - 0s 1ms/step - loss: 0.1962 - accuracy: 0.9183\n",
            "Epoch 45/100\n",
            "144/144 [==============================] - 0s 1ms/step - loss: 0.1985 - accuracy: 0.9190\n",
            "Epoch 46/100\n",
            "144/144 [==============================] - 0s 1ms/step - loss: 0.1991 - accuracy: 0.9183\n",
            "Epoch 47/100\n",
            "144/144 [==============================] - 0s 1ms/step - loss: 0.1934 - accuracy: 0.9210\n",
            "Epoch 48/100\n",
            "144/144 [==============================] - 0s 1ms/step - loss: 0.1918 - accuracy: 0.9218\n",
            "Epoch 49/100\n",
            "144/144 [==============================] - 0s 1ms/step - loss: 0.1997 - accuracy: 0.9205\n",
            "Epoch 50/100\n",
            "144/144 [==============================] - 0s 1ms/step - loss: 0.1958 - accuracy: 0.9204\n",
            "Epoch 51/100\n",
            "144/144 [==============================] - 0s 1ms/step - loss: 0.1971 - accuracy: 0.9214\n",
            "Epoch 52/100\n",
            "144/144 [==============================] - 0s 1ms/step - loss: 0.1850 - accuracy: 0.9248\n",
            "Epoch 53/100\n",
            "144/144 [==============================] - 0s 1ms/step - loss: 0.1829 - accuracy: 0.9258\n",
            "Epoch 54/100\n",
            "144/144 [==============================] - 0s 1ms/step - loss: 0.1887 - accuracy: 0.9218\n",
            "Epoch 55/100\n",
            "144/144 [==============================] - 0s 1ms/step - loss: 0.2078 - accuracy: 0.9176\n",
            "Epoch 56/100\n",
            "144/144 [==============================] - 0s 1ms/step - loss: 0.1872 - accuracy: 0.9221\n",
            "Epoch 57/100\n",
            "144/144 [==============================] - 0s 1ms/step - loss: 0.1870 - accuracy: 0.9251\n",
            "Epoch 58/100\n",
            "144/144 [==============================] - 0s 1ms/step - loss: 0.1878 - accuracy: 0.9236\n",
            "Epoch 59/100\n",
            "144/144 [==============================] - 0s 1ms/step - loss: 0.1800 - accuracy: 0.9251\n",
            "Epoch 60/100\n",
            "144/144 [==============================] - 0s 1ms/step - loss: 0.1887 - accuracy: 0.9246\n",
            "Epoch 61/100\n",
            "144/144 [==============================] - 0s 1ms/step - loss: 0.1783 - accuracy: 0.9272\n",
            "Epoch 62/100\n",
            "144/144 [==============================] - 0s 1ms/step - loss: 0.1793 - accuracy: 0.9249\n",
            "Epoch 63/100\n",
            "144/144 [==============================] - 0s 1ms/step - loss: 0.1812 - accuracy: 0.9248\n",
            "Epoch 64/100\n",
            "144/144 [==============================] - 0s 1ms/step - loss: 0.1771 - accuracy: 0.9290\n",
            "Epoch 65/100\n",
            "144/144 [==============================] - 0s 1ms/step - loss: 0.1753 - accuracy: 0.9281\n",
            "Epoch 66/100\n",
            "144/144 [==============================] - 0s 1ms/step - loss: 0.1789 - accuracy: 0.9269\n",
            "Epoch 67/100\n",
            "144/144 [==============================] - 0s 1ms/step - loss: 0.1802 - accuracy: 0.9255\n",
            "Epoch 68/100\n",
            "144/144 [==============================] - 0s 1ms/step - loss: 0.1744 - accuracy: 0.9267\n",
            "Epoch 69/100\n",
            "144/144 [==============================] - 0s 1ms/step - loss: 0.2365 - accuracy: 0.9178\n",
            "Epoch 70/100\n",
            "144/144 [==============================] - 0s 1ms/step - loss: 0.1712 - accuracy: 0.9300\n",
            "Epoch 71/100\n",
            "144/144 [==============================] - 0s 1ms/step - loss: 0.1812 - accuracy: 0.9267\n",
            "Epoch 72/100\n",
            "144/144 [==============================] - 0s 1ms/step - loss: 0.1735 - accuracy: 0.9279\n",
            "Epoch 73/100\n",
            "144/144 [==============================] - 0s 1ms/step - loss: 0.1693 - accuracy: 0.9289\n",
            "Epoch 74/100\n",
            "144/144 [==============================] - 0s 1ms/step - loss: 0.1699 - accuracy: 0.9309\n",
            "Epoch 75/100\n",
            "144/144 [==============================] - 0s 1ms/step - loss: 0.1708 - accuracy: 0.9304\n",
            "Epoch 76/100\n",
            "144/144 [==============================] - 0s 1ms/step - loss: 0.1685 - accuracy: 0.9316\n",
            "Epoch 77/100\n",
            "144/144 [==============================] - 0s 1ms/step - loss: 0.1644 - accuracy: 0.9317\n",
            "Epoch 78/100\n",
            "144/144 [==============================] - 0s 1ms/step - loss: 0.1694 - accuracy: 0.9301\n",
            "Epoch 79/100\n",
            "144/144 [==============================] - 0s 1ms/step - loss: 0.1918 - accuracy: 0.9284\n",
            "Epoch 80/100\n",
            "144/144 [==============================] - 0s 1ms/step - loss: 0.1637 - accuracy: 0.9305\n",
            "Epoch 81/100\n",
            "144/144 [==============================] - 0s 1ms/step - loss: 0.1642 - accuracy: 0.9323\n",
            "Epoch 82/100\n",
            "144/144 [==============================] - 0s 1ms/step - loss: 0.1664 - accuracy: 0.9312\n",
            "Epoch 83/100\n",
            "144/144 [==============================] - 0s 1ms/step - loss: 0.2105 - accuracy: 0.9190\n",
            "Epoch 84/100\n",
            "144/144 [==============================] - 0s 1ms/step - loss: 0.1706 - accuracy: 0.9296\n",
            "Epoch 85/100\n",
            "144/144 [==============================] - 0s 1ms/step - loss: 0.1664 - accuracy: 0.9311\n",
            "Epoch 86/100\n",
            "144/144 [==============================] - 0s 1ms/step - loss: 0.1833 - accuracy: 0.9260\n",
            "Epoch 87/100\n",
            "144/144 [==============================] - 0s 1ms/step - loss: 0.1627 - accuracy: 0.9329\n",
            "Epoch 88/100\n",
            "144/144 [==============================] - 0s 1ms/step - loss: 0.1631 - accuracy: 0.9322\n",
            "Epoch 89/100\n",
            "144/144 [==============================] - 0s 1ms/step - loss: 0.1628 - accuracy: 0.9339\n",
            "Epoch 90/100\n",
            "144/144 [==============================] - 0s 1ms/step - loss: 0.1614 - accuracy: 0.9331\n",
            "Epoch 91/100\n",
            "144/144 [==============================] - 0s 1ms/step - loss: 0.1552 - accuracy: 0.9365\n",
            "Epoch 92/100\n",
            "144/144 [==============================] - 0s 1ms/step - loss: 0.1589 - accuracy: 0.9342\n",
            "Epoch 93/100\n",
            "144/144 [==============================] - 0s 1ms/step - loss: 0.1658 - accuracy: 0.9316\n",
            "Epoch 94/100\n",
            "144/144 [==============================] - 0s 1ms/step - loss: 0.1551 - accuracy: 0.9375\n",
            "Epoch 95/100\n",
            "144/144 [==============================] - 0s 1ms/step - loss: 0.1774 - accuracy: 0.9316\n",
            "Epoch 96/100\n",
            "144/144 [==============================] - 0s 1ms/step - loss: 0.1583 - accuracy: 0.9357\n",
            "Epoch 97/100\n",
            "144/144 [==============================] - 0s 1ms/step - loss: 0.1533 - accuracy: 0.9385\n",
            "Epoch 98/100\n",
            "144/144 [==============================] - 0s 1ms/step - loss: 0.1659 - accuracy: 0.9318\n",
            "Epoch 99/100\n",
            "144/144 [==============================] - 0s 1ms/step - loss: 0.1529 - accuracy: 0.9379\n",
            "Epoch 100/100\n",
            "144/144 [==============================] - 0s 1ms/step - loss: 0.1557 - accuracy: 0.9357\n"
          ]
        },
        {
          "output_type": "execute_result",
          "data": {
            "text/plain": [
              "<keras.callbacks.History at 0x7fbfc426abd0>"
            ]
          },
          "metadata": {},
          "execution_count": 49
        }
      ]
    },
    {
      "cell_type": "code",
      "metadata": {
        "colab": {
          "base_uri": "https://localhost:8080/"
        },
        "id": "k9z9fSLGHKBt",
        "outputId": "bf139a8c-72f9-483a-a7d0-4aa36564f4e5"
      },
      "source": [
        "# evaluate the model\n",
        "\n",
        "scores = model.evaluate(test_x, test_y)\n",
        "print(\"\\n%s: %.2f%%\" % (model.metrics_names[1], scores[1]*100))"
      ],
      "execution_count": 50,
      "outputs": [
        {
          "output_type": "stream",
          "name": "stdout",
          "text": [
            "192/192 [==============================] - 0s 1ms/step - loss: 0.2864 - accuracy: 0.9078\n",
            "\n",
            "accuracy: 90.78%\n"
          ]
        }
      ]
    },
    {
      "cell_type": "code",
      "metadata": {
        "id": "o6BeiLSiHM8n"
      },
      "source": [
        "model1 = Sequential()\n",
        "\n",
        "model1.add(Dense(10, input_dim=9, activation='relu'))\n",
        "model1.add(Dense(25, activation='relu'))\n",
        "model1.add(Dense(50, activation='relu'))\n",
        "\n",
        "#final layer: there has to be 5 nodes with softmax (because we have 5 categories)\n",
        "model1.add(Dense(5, activation='softmax'))"
      ],
      "execution_count": 51,
      "outputs": []
    },
    {
      "cell_type": "code",
      "metadata": {
        "id": "S4sX8ifTHs5S"
      },
      "source": [
        "\n",
        "\n",
        "#Optimizer:\n",
        "sgd = keras.optimizers.SGD(learning_rate=0.05)\n",
        "\n",
        "\n",
        "#You need to use \"categorical_crossentropy\" for mutli-class\n",
        "#but since our target is ordinal, we need to use \"sparse_...\"\n",
        "#if it is binary classification, then use binary_crossentropy\n",
        "\n",
        "model1.compile(loss='sparse_categorical_crossentropy', optimizer=sgd, metrics=['accuracy'])"
      ],
      "execution_count": 52,
      "outputs": []
    },
    {
      "cell_type": "code",
      "metadata": {
        "colab": {
          "base_uri": "https://localhost:8080/"
        },
        "id": "pop1xc-PH6H5",
        "outputId": "a3e5c8cc-c959-418d-c4ca-98d0d9b86f02"
      },
      "source": [
        "model.fit(train_x, train_y, epochs=100, batch_size=100)"
      ],
      "execution_count": 53,
      "outputs": [
        {
          "output_type": "stream",
          "name": "stdout",
          "text": [
            "Epoch 1/100\n",
            "144/144 [==============================] - 0s 2ms/step - loss: 0.1528 - accuracy: 0.9369\n",
            "Epoch 2/100\n",
            "144/144 [==============================] - 0s 1ms/step - loss: 0.1504 - accuracy: 0.9392\n",
            "Epoch 3/100\n",
            "144/144 [==============================] - 0s 1ms/step - loss: 0.1551 - accuracy: 0.9374\n",
            "Epoch 4/100\n",
            "144/144 [==============================] - 0s 1ms/step - loss: 0.1557 - accuracy: 0.9356\n",
            "Epoch 5/100\n",
            "144/144 [==============================] - 0s 1ms/step - loss: 0.1517 - accuracy: 0.9378\n",
            "Epoch 6/100\n",
            "144/144 [==============================] - 0s 2ms/step - loss: 0.1578 - accuracy: 0.9340\n",
            "Epoch 7/100\n",
            "144/144 [==============================] - 0s 1ms/step - loss: 0.1515 - accuracy: 0.9383\n",
            "Epoch 8/100\n",
            "144/144 [==============================] - 0s 1ms/step - loss: 0.1538 - accuracy: 0.9358\n",
            "Epoch 9/100\n",
            "144/144 [==============================] - 0s 1ms/step - loss: 0.1542 - accuracy: 0.9357\n",
            "Epoch 10/100\n",
            "144/144 [==============================] - 0s 1ms/step - loss: 0.1492 - accuracy: 0.9386\n",
            "Epoch 11/100\n",
            "144/144 [==============================] - 0s 1ms/step - loss: 0.1493 - accuracy: 0.9369\n",
            "Epoch 12/100\n",
            "144/144 [==============================] - 0s 1ms/step - loss: 0.1506 - accuracy: 0.9382\n",
            "Epoch 13/100\n",
            "144/144 [==============================] - 0s 1ms/step - loss: 0.1475 - accuracy: 0.9395\n",
            "Epoch 14/100\n",
            "144/144 [==============================] - 0s 1ms/step - loss: 0.1514 - accuracy: 0.9383\n",
            "Epoch 15/100\n",
            "144/144 [==============================] - 0s 1ms/step - loss: 0.1463 - accuracy: 0.9396\n",
            "Epoch 16/100\n",
            "144/144 [==============================] - 0s 1ms/step - loss: 0.1510 - accuracy: 0.9374\n",
            "Epoch 17/100\n",
            "144/144 [==============================] - 0s 1ms/step - loss: 0.1508 - accuracy: 0.9369\n",
            "Epoch 18/100\n",
            "144/144 [==============================] - 0s 1ms/step - loss: 0.1465 - accuracy: 0.9401\n",
            "Epoch 19/100\n",
            "144/144 [==============================] - 0s 1ms/step - loss: 0.1493 - accuracy: 0.9384\n",
            "Epoch 20/100\n",
            "144/144 [==============================] - 0s 1ms/step - loss: 0.1578 - accuracy: 0.9372\n",
            "Epoch 21/100\n",
            "144/144 [==============================] - 0s 1ms/step - loss: 0.1445 - accuracy: 0.9409\n",
            "Epoch 22/100\n",
            "144/144 [==============================] - 0s 1ms/step - loss: 0.1422 - accuracy: 0.9407\n",
            "Epoch 23/100\n",
            "144/144 [==============================] - 0s 1ms/step - loss: 0.1502 - accuracy: 0.9381\n",
            "Epoch 24/100\n",
            "144/144 [==============================] - 0s 1ms/step - loss: 0.1466 - accuracy: 0.9402\n",
            "Epoch 25/100\n",
            "144/144 [==============================] - 0s 1ms/step - loss: 0.1527 - accuracy: 0.9363\n",
            "Epoch 26/100\n",
            "144/144 [==============================] - 0s 1ms/step - loss: 0.1432 - accuracy: 0.9410\n",
            "Epoch 27/100\n",
            "144/144 [==============================] - 0s 1ms/step - loss: 0.1519 - accuracy: 0.9371\n",
            "Epoch 28/100\n",
            "144/144 [==============================] - 0s 1ms/step - loss: 0.1474 - accuracy: 0.9416\n",
            "Epoch 29/100\n",
            "144/144 [==============================] - 0s 1ms/step - loss: 0.1405 - accuracy: 0.9424\n",
            "Epoch 30/100\n",
            "144/144 [==============================] - 0s 1ms/step - loss: 0.1441 - accuracy: 0.9416\n",
            "Epoch 31/100\n",
            "144/144 [==============================] - 0s 1ms/step - loss: 0.1426 - accuracy: 0.9399\n",
            "Epoch 32/100\n",
            "144/144 [==============================] - 0s 1ms/step - loss: 0.1444 - accuracy: 0.9399\n",
            "Epoch 33/100\n",
            "144/144 [==============================] - 0s 1ms/step - loss: 0.1527 - accuracy: 0.9383\n",
            "Epoch 34/100\n",
            "144/144 [==============================] - 0s 1ms/step - loss: 0.1375 - accuracy: 0.9434\n",
            "Epoch 35/100\n",
            "144/144 [==============================] - 0s 1ms/step - loss: 0.1449 - accuracy: 0.9400\n",
            "Epoch 36/100\n",
            "144/144 [==============================] - 0s 1ms/step - loss: 0.1540 - accuracy: 0.9381\n",
            "Epoch 37/100\n",
            "144/144 [==============================] - 0s 1ms/step - loss: 0.1399 - accuracy: 0.9418\n",
            "Epoch 38/100\n",
            "144/144 [==============================] - 0s 1ms/step - loss: 0.1489 - accuracy: 0.9408\n",
            "Epoch 39/100\n",
            "144/144 [==============================] - 0s 1ms/step - loss: 0.1383 - accuracy: 0.9425\n",
            "Epoch 40/100\n",
            "144/144 [==============================] - 0s 1ms/step - loss: 0.1402 - accuracy: 0.9429\n",
            "Epoch 41/100\n",
            "144/144 [==============================] - 0s 1ms/step - loss: 0.1499 - accuracy: 0.9404\n",
            "Epoch 42/100\n",
            "144/144 [==============================] - 0s 1ms/step - loss: 0.1401 - accuracy: 0.9429\n",
            "Epoch 43/100\n",
            "144/144 [==============================] - 0s 1ms/step - loss: 0.1906 - accuracy: 0.9320\n",
            "Epoch 44/100\n",
            "144/144 [==============================] - 0s 1ms/step - loss: 0.1432 - accuracy: 0.9390\n",
            "Epoch 45/100\n",
            "144/144 [==============================] - 0s 1ms/step - loss: 0.1877 - accuracy: 0.9325\n",
            "Epoch 46/100\n",
            "144/144 [==============================] - 0s 1ms/step - loss: 0.1470 - accuracy: 0.9415\n",
            "Epoch 47/100\n",
            "144/144 [==============================] - 0s 1ms/step - loss: 0.1481 - accuracy: 0.9411\n",
            "Epoch 48/100\n",
            "144/144 [==============================] - 0s 1ms/step - loss: 0.1391 - accuracy: 0.9410\n",
            "Epoch 49/100\n",
            "144/144 [==============================] - 0s 1ms/step - loss: 0.1888 - accuracy: 0.9346\n",
            "Epoch 50/100\n",
            "144/144 [==============================] - 0s 1ms/step - loss: 0.1412 - accuracy: 0.9424\n",
            "Epoch 51/100\n",
            "144/144 [==============================] - 0s 1ms/step - loss: 0.1373 - accuracy: 0.9436\n",
            "Epoch 52/100\n",
            "144/144 [==============================] - 0s 1ms/step - loss: 0.1374 - accuracy: 0.9434\n",
            "Epoch 53/100\n",
            "144/144 [==============================] - 0s 1ms/step - loss: 0.1385 - accuracy: 0.9420\n",
            "Epoch 54/100\n",
            "144/144 [==============================] - 0s 1ms/step - loss: 0.1982 - accuracy: 0.9346\n",
            "Epoch 55/100\n",
            "144/144 [==============================] - 0s 1ms/step - loss: 0.1356 - accuracy: 0.9438\n",
            "Epoch 56/100\n",
            "144/144 [==============================] - 0s 1ms/step - loss: 0.1388 - accuracy: 0.9428\n",
            "Epoch 57/100\n",
            "144/144 [==============================] - 0s 1ms/step - loss: 0.1371 - accuracy: 0.9432\n",
            "Epoch 58/100\n",
            "144/144 [==============================] - 0s 1ms/step - loss: 0.1355 - accuracy: 0.9433\n",
            "Epoch 59/100\n",
            "144/144 [==============================] - 0s 1ms/step - loss: 0.1348 - accuracy: 0.9440\n",
            "Epoch 60/100\n",
            "144/144 [==============================] - 0s 1ms/step - loss: 0.1346 - accuracy: 0.9437\n",
            "Epoch 61/100\n",
            "144/144 [==============================] - 0s 1ms/step - loss: 0.1345 - accuracy: 0.9443\n",
            "Epoch 62/100\n",
            "144/144 [==============================] - 0s 1ms/step - loss: 0.3373 - accuracy: 0.9185\n",
            "Epoch 63/100\n",
            "144/144 [==============================] - 0s 1ms/step - loss: 0.1463 - accuracy: 0.9400\n",
            "Epoch 64/100\n",
            "144/144 [==============================] - 0s 1ms/step - loss: 0.1425 - accuracy: 0.9411\n",
            "Epoch 65/100\n",
            "144/144 [==============================] - 0s 1ms/step - loss: 0.1340 - accuracy: 0.9455\n",
            "Epoch 66/100\n",
            "144/144 [==============================] - 0s 1ms/step - loss: 0.1401 - accuracy: 0.9420\n",
            "Epoch 67/100\n",
            "144/144 [==============================] - 0s 1ms/step - loss: 0.1328 - accuracy: 0.9444\n",
            "Epoch 68/100\n",
            "144/144 [==============================] - 0s 1ms/step - loss: 0.1436 - accuracy: 0.9410\n",
            "Epoch 69/100\n",
            "144/144 [==============================] - 0s 1ms/step - loss: 0.1341 - accuracy: 0.9459\n",
            "Epoch 70/100\n",
            "144/144 [==============================] - 0s 1ms/step - loss: 0.1338 - accuracy: 0.9446\n",
            "Epoch 71/100\n",
            "144/144 [==============================] - 0s 1ms/step - loss: 0.1314 - accuracy: 0.9466\n",
            "Epoch 72/100\n",
            "144/144 [==============================] - 0s 1ms/step - loss: 0.1450 - accuracy: 0.9410\n",
            "Epoch 73/100\n",
            "144/144 [==============================] - 0s 2ms/step - loss: 0.1364 - accuracy: 0.9441\n",
            "Epoch 74/100\n",
            "144/144 [==============================] - 0s 1ms/step - loss: 0.2055 - accuracy: 0.9322\n",
            "Epoch 75/100\n",
            "144/144 [==============================] - 0s 1ms/step - loss: 0.1376 - accuracy: 0.9441\n",
            "Epoch 76/100\n",
            "144/144 [==============================] - 0s 1ms/step - loss: 0.1305 - accuracy: 0.9463\n",
            "Epoch 77/100\n",
            "144/144 [==============================] - 0s 1ms/step - loss: 0.1292 - accuracy: 0.9471\n",
            "Epoch 78/100\n",
            "144/144 [==============================] - 0s 1ms/step - loss: 0.1314 - accuracy: 0.9457\n",
            "Epoch 79/100\n",
            "144/144 [==============================] - 0s 1ms/step - loss: 0.1604 - accuracy: 0.9387\n",
            "Epoch 80/100\n",
            "144/144 [==============================] - 0s 1ms/step - loss: 0.1316 - accuracy: 0.9459\n",
            "Epoch 81/100\n",
            "144/144 [==============================] - 0s 1ms/step - loss: 0.1279 - accuracy: 0.9469\n",
            "Epoch 82/100\n",
            "144/144 [==============================] - 0s 1ms/step - loss: 0.1324 - accuracy: 0.9472\n",
            "Epoch 83/100\n",
            "144/144 [==============================] - 0s 1ms/step - loss: 0.1298 - accuracy: 0.9462\n",
            "Epoch 84/100\n",
            "144/144 [==============================] - 0s 1ms/step - loss: 0.1276 - accuracy: 0.9479\n",
            "Epoch 85/100\n",
            "144/144 [==============================] - 0s 1ms/step - loss: 0.1296 - accuracy: 0.9467\n",
            "Epoch 86/100\n",
            "144/144 [==============================] - 0s 1ms/step - loss: 0.1440 - accuracy: 0.9436\n",
            "Epoch 87/100\n",
            "144/144 [==============================] - 0s 1ms/step - loss: 0.1290 - accuracy: 0.9453\n",
            "Epoch 88/100\n",
            "144/144 [==============================] - 0s 2ms/step - loss: 0.1561 - accuracy: 0.9410\n",
            "Epoch 89/100\n",
            "144/144 [==============================] - 0s 1ms/step - loss: 0.1334 - accuracy: 0.9452\n",
            "Epoch 90/100\n",
            "144/144 [==============================] - 0s 1ms/step - loss: 0.1265 - accuracy: 0.9467\n",
            "Epoch 91/100\n",
            "144/144 [==============================] - 0s 1ms/step - loss: 0.1493 - accuracy: 0.9417\n",
            "Epoch 92/100\n",
            "144/144 [==============================] - 0s 1ms/step - loss: 0.1330 - accuracy: 0.9450\n",
            "Epoch 93/100\n",
            "144/144 [==============================] - 0s 1ms/step - loss: 0.1261 - accuracy: 0.9472\n",
            "Epoch 94/100\n",
            "144/144 [==============================] - 0s 1ms/step - loss: 0.1287 - accuracy: 0.9460\n",
            "Epoch 95/100\n",
            "144/144 [==============================] - 0s 1ms/step - loss: 0.1258 - accuracy: 0.9475\n",
            "Epoch 96/100\n",
            "144/144 [==============================] - 0s 1ms/step - loss: 0.1279 - accuracy: 0.9457\n",
            "Epoch 97/100\n",
            "144/144 [==============================] - 0s 1ms/step - loss: 0.1283 - accuracy: 0.9476\n",
            "Epoch 98/100\n",
            "144/144 [==============================] - 0s 2ms/step - loss: 0.1244 - accuracy: 0.9489\n",
            "Epoch 99/100\n",
            "144/144 [==============================] - 0s 1ms/step - loss: 0.1340 - accuracy: 0.9476\n",
            "Epoch 100/100\n",
            "144/144 [==============================] - 0s 1ms/step - loss: 0.1263 - accuracy: 0.9478\n"
          ]
        },
        {
          "output_type": "execute_result",
          "data": {
            "text/plain": [
              "<keras.callbacks.History at 0x7fbfbbd620d0>"
            ]
          },
          "metadata": {},
          "execution_count": 53
        }
      ]
    },
    {
      "cell_type": "code",
      "metadata": {
        "colab": {
          "base_uri": "https://localhost:8080/"
        },
        "id": "umi2zp8dH-Qu",
        "outputId": "19a28f37-0201-4229-a25f-62c38e780a8e"
      },
      "source": [
        "# evaluate the model\n",
        "\n",
        "scores = model.evaluate(test_x, test_y)\n",
        "print(\"\\n%s: %.2f%%\" % (model.metrics_names[1], scores[1]*100))"
      ],
      "execution_count": 54,
      "outputs": [
        {
          "output_type": "stream",
          "name": "stdout",
          "text": [
            "192/192 [==============================] - 0s 1ms/step - loss: 1.6398 - accuracy: 0.7613\n",
            "\n",
            "accuracy: 76.13%\n"
          ]
        }
      ]
    },
    {
      "cell_type": "code",
      "metadata": {
        "id": "5ES0vm4yIBGk"
      },
      "source": [
        "#From the above we can say that the First approach has the accuracy of  90%, So first approach is working better in both the models. That is by decreasing the neurons the model is better compared to increasing the neurons in the layers."
      ],
      "execution_count": 56,
      "outputs": []
    },
    {
      "cell_type": "code",
      "metadata": {
        "id": "52ivP7-sIbQw"
      },
      "source": [
        ""
      ],
      "execution_count": null,
      "outputs": []
    }
  ]
}