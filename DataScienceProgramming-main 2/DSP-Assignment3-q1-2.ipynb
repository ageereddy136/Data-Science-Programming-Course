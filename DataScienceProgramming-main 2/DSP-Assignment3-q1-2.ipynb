{
 "cells": [
  {
   "cell_type": "code",
   "execution_count": 21,
   "id": "20871d85",
   "metadata": {},
   "outputs": [
    {
     "data": {
      "image/png": "[encoded data removed]",
      "text/plain": [
       "<Figure size 432x288 with 1 Axes>"
      ]
     },
     "metadata": {
      "needs_background": "light"
     },
     "output_type": "display_data"
    }
   ],
   "source": [
    "import matplotlib\n",
    "import matplotlib.pyplot as plt\n",
    "from sklearn.model_selection import train_test_split\n",
    "import numpy as np\n",
    "from sklearn import datasets\n",
    "from sklearn.pipeline import Pipeline\n",
    "from sklearn.preprocessing import StandardScaler\n",
    "from sklearn.svm import LinearSVC\n",
    "from sklearn.datasets import make_moons\n",
    "from sklearn import svm, datasets\n",
    "from sklearn.metrics import confusion_matrix,accuracy_score,roc_auc_score,f1_score,mean_squared_error\n",
    "\n",
    "\n",
    "X, y = make_moons(n_samples=500, noise=0.5, random_state=42)\n",
    "X_train, X_test, y_train, y_test = train_test_split(X, y, test_size=0.20, random_state=42)\n",
    "\n",
    "def plot_dataset(X, y, axes):\n",
    "    plt.plot(X[:, 0][y==0], X[:, 1][y==0], \"bs\")\n",
    "    plt.plot(X[:, 0][y==1], X[:, 1][y==1], \"g^\")\n",
    "    plt.axis(axes)\n",
    "    plt.grid(True, which='both')\n",
    "    plt.xlabel(r\"$x_1$\", fontsize=20)\n",
    "    plt.ylabel(r\"$x_2$\", fontsize=20, rotation=0)\n",
    "\n",
    "plot_dataset(X, y, [-1.5, 2.5, -2, 1.5])\n",
    "plt.show()"
   ]
  },
  {
   "cell_type": "code",
   "execution_count": 23,
   "id": "88070e21",
   "metadata": {},
   "outputs": [
    {
     "name": "stdout",
     "output_type": "stream",
     "text": [
      "Confusion Matrix\n",
      "[[42  1]\n",
      " [30 27]]\n",
      "Accuracy Score: 0.690\n",
      "ROC_AUC Score: 0.725\n",
      "Mean Square Error: 0.310\n"
     ]
    }
   ],
   "source": [
    "C = 1.0\n",
    "poly_svc = svm.SVC(kernel='poly', degree=5, C=C).fit(X_train, y_train)\n",
    "c = poly_svc.predict(X_test)\n",
    "print('Confusion Matrix')\n",
    "print(confusion_matrix(y_test,c))\n",
    "print('Accuracy Score: %.3f' %  accuracy_score(y_test, c))\n",
    "print('ROC AUC Score: %.3f' %  roc_auc_score(y_test, c))\n",
    "print('MeanSquareError: %.3f' %  mean_squared_error(y_test, c))"
   ]
  },
  {
   "cell_type": "markdown",
   "id": "d31f7b1b",
   "metadata": {},
   "source": [
    "Radial Basis Function(rbf) kernel is one of the most preferred and used kernel functions in svm. As it is usually chosen for non-linear data. And the rbf kernel helps to make proper seperation when there is no prior knowledge of data. The gamma parameters can be seen as the inverse of the radius of influence of samples selected by the model as support vectors. To increase the performance of the model than the svm model with polynomial kernel. As it is more generalized representation of the linear kernel, And it is not as preferred as other kernel functions due to less efficient and accurate nature of the model. Gamma is the parameter of a Gaussian Kernel (to handle non-linear classification)."
   ]
  },
  {
   "cell_type": "markdown",
   "id": "0d743ae4",
   "metadata": {},
   "source": [
    "# rbf helps to proper seperation and with the as the behavior of the model is very sensitive to the gamma parameter. The radius of the RBF kernel alone acts as a good structural regularizer. Increasing C further doesn’t help, since very high C values typically increase fitting time. Intuitively, the gamma parameter defines how far the influence of a single training example reaches, with low values meaning ‘far’ and high values meaning ‘close. So by changing the kernel it increases the accuracy of the model."
   ]
  },
  {
   "cell_type": "code",
   "execution_count": 25,
   "id": "f5f6ad57",
   "metadata": {},
   "outputs": [
    {
     "name": "stdout",
     "output_type": "stream",
     "text": [
      "Confusion Matrix\n",
      "[[38  5]\n",
      " [19 38]]\n",
      "Accuracy Score: 0.760\n",
      "ROC_AUC Score: 0.775\n",
      "Mean Square Error: 0.240\n"
     ]
    }
   ],
   "source": [
    "rbf_svc = svm.SVC(kernel='rbf', gamma=0.7, C=C).fit(X_train, y_train)\n",
    "b = rbf_svc.predict(X_test)\n",
    "\n",
    "print('Confusion Matrix')\n",
    "print(confusion_matrix(y_test,b))\n",
    "print('Accuracy Score: %.3f' %  accuracy_score(y_test, b))\n",
    "print('ROC AUC Score: %.3f' %  roc_auc_score(y_test, b))\n",
    "print('MeanSquareError: %.3f' %  mean_squared_error(y_test,b))"
   ]
  },
  {
   "cell_type": "markdown",
   "id": "bf2fd255",
   "metadata": {},
   "source": [
    "Linear Kernel is the basic type of kernel and it is one-dimensional in nature.linear kernel functions are faster than other functions. As linear kernel creates a boundry around the corners. It proves to be best when there are lot of features and classification that can be linearly seperatable. "
   ]
  },
  {
   "cell_type": "markdown",
   "id": "8b9a0e74",
   "metadata": {},
   "source": [
    "# And by using Linear for the above SVM classifier it is more faster and we can see that the accurancy and ROC curve of the model increased."
   ]
  },
  {
   "cell_type": "code",
   "execution_count": 29,
   "id": "c6f06e61",
   "metadata": {},
   "outputs": [
    {
     "name": "stdout",
     "output_type": "stream",
     "text": [
      "Confusion Matrix\n",
      "[[40  3]\n",
      " [15 42]]\n",
      "Accuracy Score: 0.820\n",
      "ROC AUC Score: 0.834\n",
      "MeanSquareError: 0.180\n"
     ]
    }
   ],
   "source": [
    "svc = svm.SVC(kernel='linear', C=C).fit(X_train, y_train)\n",
    "a = svc.predict(X_test)\n",
    "\n",
    "print('Confusion Matrix')\n",
    "print(confusion_matrix(y_test,a))\n",
    "print('Accuracy Score: %.3f' %  accuracy_score(y_test, a))\n",
    "print('ROC AUC Score: %.3f' %  roc_auc_score(y_test, a))\n",
    "print('MeanSquareError: %.3f' %  mean_squared_error(y_test,a))"
   ]
  },
  {
   "cell_type": "markdown",
   "id": "bcef283c",
   "metadata": {},
   "source": [
    "# We can see that the second kernel i.e the rbf kernel and the ensemble model has same amount of errors. But, As we did some hyperparameter tunning we could see that SVM performs better than ensemble."
   ]
  },
  {
   "cell_type": "code",
   "execution_count": 30,
   "id": "92c7cc07",
   "metadata": {},
   "outputs": [
    {
     "name": "stdout",
     "output_type": "stream",
     "text": [
      "Confusion Matrix\n",
      "[[39  4]\n",
      " [20 37]]\n",
      "Accuracy Score: 0.760\n",
      "ROC_AUC Score: 0.778\n",
      "Mean Square Error: 0.240\n"
     ]
    }
   ],
   "source": [
    "from sklearn.ensemble import RandomForestClassifier\n",
    "rnd_clf = RandomForestClassifier(n_estimators=500, max_leaf_nodes=16, n_jobs=-1)\n",
    "rnd_clf.fit(X_train,y_train)\n",
    "r = rnd_clf.predict(X_test)\n",
    "\n",
    "print('Confusion Matrix')\n",
    "print(confusion_matrix(y_test,r))\n",
    "print('Accuracy Score: %.3f' %  accuracy_score(y_test, r))\n",
    "print('ROC AUC Score: %.3f' %  roc_auc_score(y_test, r))\n",
    "print('MeanSquareError: %.3f' %  mean_squared_error(y_test,r))"
   ]
  },
  {
   "cell_type": "code",
   "execution_count": null,
   "id": "6483b166",
   "metadata": {},
   "outputs": [],
   "source": []
  }
 ],
 "metadata": {
  "kernelspec": {
   "display_name": "Python 3",
   "language": "python",
   "name": "python3"
  },
  "language_info": {
   "codemirror_mode": {
    "name": "ipython",
    "version": 3
   },
   "file_extension": ".py",
   "mimetype": "text/x-python",
   "name": "python",
   "nbconvert_exporter": "python",
   "pygments_lexer": "ipython3",
   "version": "3.8.8"
  }
 },
 "nbformat": 4,
 "nbformat_minor": 5
}
