{
 "cells": [
  {
   "cell_type": "markdown",
   "id": "bf2ee739",
   "metadata": {},
   "source": [
    "# Question1"
   ]
  },
  {
   "cell_type": "code",
   "execution_count": 258,
   "id": "ae44ff2e",
   "metadata": {},
   "outputs": [],
   "source": [
    "# q1 part1"
   ]
  },
  {
   "cell_type": "code",
   "execution_count": 259,
   "id": "662436e7",
   "metadata": {},
   "outputs": [],
   "source": [
    "# the quadratic euation with hundred data points\n",
    "import numpy as np\n",
    "x = np.random.rand(100,1)\n",
    "y = 3.4 + 2.1*x + np.random.randn(100,1)"
   ]
  },
  {
   "cell_type": "code",
   "execution_count": 260,
   "id": "88845275",
   "metadata": {},
   "outputs": [
    {
     "data": {
      "text/plain": [
       "<matplotlib.collections.PathCollection at 0x7fdd6c55aeb0>"
      ]
     },
     "execution_count": 260,
     "metadata": {},
     "output_type": "execute_result"
    },
    {
     "data": {
      "image/png": "[encoded data removed]",
      "text/plain": [
       "<Figure size 432x288 with 1 Axes>"
      ]
     },
     "metadata": {
      "needs_background": "light"
     },
     "output_type": "display_data"
    }
   ],
   "source": [
    "# scatter plot for equation\n",
    "import matplotlib.pyplot as plt\n",
    "plt.scatter(x,y)"
   ]
  },
  {
   "cell_type": "code",
   "execution_count": 261,
   "id": "8c337259",
   "metadata": {},
   "outputs": [],
   "source": [
    "X_b = np.c_[np.ones((100,1)), x]"
   ]
  },
  {
   "cell_type": "code",
   "execution_count": 262,
   "id": "0a2d9bdf",
   "metadata": {},
   "outputs": [
    {
     "name": "stdout",
     "output_type": "stream",
     "text": [
      "[[1.         0.97663436]\n",
      " [1.         0.26297176]\n",
      " [1.         0.54185897]]\n"
     ]
    }
   ],
   "source": [
    "print(X_b[:3])"
   ]
  },
  {
   "cell_type": "code",
   "execution_count": 263,
   "id": "f969a431",
   "metadata": {},
   "outputs": [
    {
     "name": "stdout",
     "output_type": "stream",
     "text": [
      "<class 'numpy.ndarray'> (100, 2) 2\n"
     ]
    }
   ],
   "source": [
    "print(type(X_b), X_b.shape, X_b.ndim)"
   ]
  },
  {
   "cell_type": "markdown",
   "id": "00628a5f",
   "metadata": {},
   "source": [
    "# Part2"
   ]
  },
  {
   "cell_type": "code",
   "execution_count": 264,
   "id": "442f9347",
   "metadata": {},
   "outputs": [
    {
     "data": {
      "text/plain": [
       "LinearRegression()"
      ]
     },
     "execution_count": 264,
     "metadata": {},
     "output_type": "execute_result"
    }
   ],
   "source": [
    " \n",
    "from sklearn.linear_model import LinearRegression\n",
    "lin_reg = LinearRegression()\n",
    "lin_reg.fit(X_b, y)"
   ]
  },
  {
   "cell_type": "code",
   "execution_count": 265,
   "id": "589222ed",
   "metadata": {},
   "outputs": [
    {
     "name": "stdout",
     "output_type": "stream",
     "text": [
      "[3.39979144] [[0.         1.94444122]]\n"
     ]
    }
   ],
   "source": [
    " print(lin_reg.intercept_, lin_reg.coef_)"
   ]
  },
  {
   "cell_type": "markdown",
   "id": "2910d8c8",
   "metadata": {},
   "source": [
    "# Part 3 "
   ]
  },
  {
   "cell_type": "code",
   "execution_count": 282,
   "id": "0e23315b",
   "metadata": {},
   "outputs": [],
   "source": [
    "#Using gradient descent\n",
    "\n",
    "LR = 0.1 # learning rate with 0.1\n",
    "n_iterations = 1000\n",
    "m = 100\n",
    "Random_int = np.random.randn(2,1) # random initialization\n",
    "for iteration in range(n_iterations):\n",
    "    gradients = 2/m * X_b.T.dot(X_b.dot(Random_int) - y)\n",
    "    Random_int = Random_int - eta * gradients"
   ]
  },
  {
   "cell_type": "code",
   "execution_count": 283,
   "id": "343599a0",
   "metadata": {},
   "outputs": [
    {
     "name": "stdout",
     "output_type": "stream",
     "text": [
      "[[3.44264538]\n",
      " [1.86083212]]\n"
     ]
    }
   ],
   "source": [
    "print(Random_int)"
   ]
  },
  {
   "cell_type": "code",
   "execution_count": 312,
   "id": "ea9cadd9",
   "metadata": {},
   "outputs": [],
   "source": [
    "LR = 0.025 # multiplying previous learning rate with 2.5 i.e learning rate with 0.025\n",
    "n_iterations = 770\n",
    "m = 100\n",
    "Random_int = np.random.randn(2,1) # random initialization\n",
    "for iteration in range(n_iterations):\n",
    "    gradients = 2/m * X_b.T.dot(X_b.dot(Random_int) - y)\n",
    "    Random_int = Random_int - eta * gradients"
   ]
  },
  {
   "cell_type": "code",
   "execution_count": 313,
   "id": "d880418d",
   "metadata": {},
   "outputs": [
    {
     "name": "stdout",
     "output_type": "stream",
     "text": [
      "[[3.3206231 ]\n",
      " [2.09890064]]\n"
     ]
    }
   ],
   "source": [
    "print(Random_int)"
   ]
  },
  {
   "cell_type": "markdown",
   "id": "a4a627eb",
   "metadata": {},
   "source": [
    "Inference: Both the models are similar and coeffitient models are similar for the two models.\n",
    "I had to run the multiple steps more times to match the coefficents. As the coefficients are not matching and changes for every run and every iteration. I had to run multiple times to get the best possible similar c"
   ]
  },
  {
   "cell_type": "markdown",
   "id": "4782b9d5",
   "metadata": {},
   "source": [
    "# Question 2\n",
    "In the MNIST database, pick a random 5K data points for training, and random 1K data points as testing. Note that, as we did in class, in MNIST the first 60,000 points are the training sample and the last 10,000 points are the test sample. So your 5K random training sample has to come from the first 60,000. And the 1K test sample has to come from the last 10,000 points."
   ]
  },
  {
   "cell_type": "code",
   "execution_count": 198,
   "id": "63b08b88",
   "metadata": {},
   "outputs": [],
   "source": [
    "\n",
    "#Question2 :\n",
    "import matplotlib\n",
    "import matplotlib.pyplot as plt\n",
    "import numpy as np\n",
    "import pandas as pd\n",
    "import sklearn"
   ]
  },
  {
   "cell_type": "code",
   "execution_count": 199,
   "id": "e9a89f8c",
   "metadata": {},
   "outputs": [],
   "source": [
    "# importing the mnist data set \n",
    "try:\n",
    "    from sklearn.datasets import fetch_openml\n",
    "    mnist = fetch_openml('mnist_784', version=1, cache=True)\n",
    "    mnist.target = mnist.target.astype(np.int8) # fetch_openml() returns targets as strings\n",
    "    #sort_by_target(mnist) # fetch_openml() returns an unsorted dataset\n",
    "except ImportError:\n",
    "    from sklearn.datasets import fetch_mldata\n",
    "    mnist = fetch_mldata('MNIST original')"
   ]
  },
  {
   "cell_type": "code",
   "execution_count": 200,
   "id": "cfefce85",
   "metadata": {},
   "outputs": [
    {
     "name": "stdout",
     "output_type": "stream",
     "text": [
      "<class 'sklearn.utils.Bunch'>\n"
     ]
    }
   ],
   "source": [
    "print(type(mnist))"
   ]
  },
  {
   "cell_type": "code",
   "execution_count": 201,
   "id": "aba68115",
   "metadata": {},
   "outputs": [],
   "source": [
    "X1, y1 = mnist[\"data\"], mnist[\"target\"]"
   ]
  },
  {
   "cell_type": "code",
   "execution_count": 238,
   "id": "aa3e8808",
   "metadata": {},
   "outputs": [
    {
     "data": {
      "text/plain": [
       "(numpy.ndarray, numpy.ndarray)"
      ]
     },
     "execution_count": 238,
     "metadata": {},
     "output_type": "execute_result"
    }
   ],
   "source": [
    "# checking the type of x and y and they should be numpy\n",
    "type(X1), type(y1)\n",
    "X = X1.to_numpy()\n",
    "y = y1.to_numpy()\n",
    "type(X), type(y)"
   ]
  },
  {
   "cell_type": "code",
   "execution_count": 239,
   "id": "89cb60d4",
   "metadata": {},
   "outputs": [
    {
     "data": {
      "text/plain": [
       "((70000, 784), (70000,))"
      ]
     },
     "execution_count": 239,
     "metadata": {},
     "output_type": "execute_result"
    }
   ],
   "source": [
    "X.shape, y.shape"
   ]
  },
  {
   "cell_type": "code",
   "execution_count": 240,
   "id": "ac17dc6b",
   "metadata": {},
   "outputs": [],
   "source": [
    "# selecting train and test data set\n",
    "X_train, X_test, y_train, y_test = X[:60000], X[60000:],y[:60000], y[60000:]"
   ]
  },
  {
   "cell_type": "code",
   "execution_count": 241,
   "id": "4b30d50c",
   "metadata": {},
   "outputs": [
    {
     "data": {
      "text/plain": [
       "(numpy.ndarray, numpy.ndarray)"
      ]
     },
     "execution_count": 241,
     "metadata": {},
     "output_type": "execute_result"
    }
   ],
   "source": [
    "# shuffling the data\n",
    "shuffle_index=np.random.permutation(60000)\n",
    "type(X_train), type(y_train)"
   ]
  },
  {
   "cell_type": "code",
   "execution_count": 242,
   "id": "78bdf4ef",
   "metadata": {},
   "outputs": [],
   "source": [
    "# Selecting 5000 from train data set\n",
    "X_train, y_train = X_train[shuffle_index], y_train[shuffle_index]\n",
    "X_train_sample,y_train_sample = X_train[:5000],y_train[:5000]"
   ]
  },
  {
   "cell_type": "code",
   "execution_count": 243,
   "id": "8bf1b1ea",
   "metadata": {},
   "outputs": [],
   "source": [
    "# selecting 1000 from test data set\n",
    "shuffle_index2 = np.random.permutation(10000)\n",
    "X_test,y_test = X_test[shuffle_index2],y_test[shuffle_index2]\n",
    "X_test_sample,y_test_sample = X_test[:1000],y_test[:1000]"
   ]
  },
  {
   "cell_type": "code",
   "execution_count": 244,
   "id": "b94d149f",
   "metadata": {},
   "outputs": [
    {
     "name": "stdout",
     "output_type": "stream",
     "text": [
      "[9 9 1 2 2 4 3 9 1 0 3 7 2 8 7 8 1 3 6 1 6 0 2 6 1 2 6 1 2 7]\n"
     ]
    }
   ],
   "source": [
    "\n",
    "print(y_train_sample[:30])\n",
    "y_train_5 = (y_train_sample == 5) \n",
    "y_test_5 = (y_test_sample == 5)  "
   ]
  },
  {
   "cell_type": "code",
   "execution_count": 245,
   "id": "cdf7b3d8",
   "metadata": {},
   "outputs": [
    {
     "name": "stdout",
     "output_type": "stream",
     "text": [
      "[9 9 1 2 2 4 3 9 1 0 3 7 2 8 7 8 1 3 6 1 6 0 2 6 1 2 6 1 2 7]\n"
     ]
    }
   ],
   "source": [
    "print(y_train_sample[:30])\n",
    "y_train_6 = (y_train_sample == 6) \n",
    "y_test_6 = (y_test_sample == 6)  "
   ]
  },
  {
   "cell_type": "code",
   "execution_count": 246,
   "id": "29aa75ff",
   "metadata": {},
   "outputs": [
    {
     "data": {
      "text/plain": [
       "array([False, False, False, False, False, False, False, False, False,\n",
       "       False, False,  True, False, False, False])"
      ]
     },
     "execution_count": 246,
     "metadata": {},
     "output_type": "execute_result"
    }
   ],
   "source": [
    "from sklearn.linear_model import SGDClassifier\n",
    "sgd_5 = SGDClassifier(random_state=42)\n",
    "sgd_5 = sgd_5.fit(X_train_sample,y_train_5)\n",
    "sgd_5.predict(X_test_sample[:15])"
   ]
  },
  {
   "cell_type": "code",
   "execution_count": 247,
   "id": "eb33de73",
   "metadata": {},
   "outputs": [
    {
     "data": {
      "text/plain": [
       "array([False, False, False, False, False, False, False, False, False,\n",
       "       False, False, False, False,  True, False])"
      ]
     },
     "execution_count": 247,
     "metadata": {},
     "output_type": "execute_result"
    }
   ],
   "source": [
    "from sklearn.linear_model import SGDClassifier\n",
    "sgd_6 = SGDClassifier(random_state=42)\n",
    "sgd_6 = sgd_6.fit(X_train_sample,y_train_6)\n",
    "sgd_6.predict(X_test_sample[:15])"
   ]
  },
  {
   "cell_type": "code",
   "execution_count": 248,
   "id": "96424763",
   "metadata": {},
   "outputs": [],
   "source": [
    "from sklearn.model_selection import cross_val_predict\n",
    "y_test_5_pred = cross_val_predict(sgd_5, X_test_sample, y_test_5, cv=3)"
   ]
  },
  {
   "cell_type": "code",
   "execution_count": 249,
   "id": "4b1a7e90",
   "metadata": {},
   "outputs": [
    {
     "data": {
      "text/plain": [
       "array([[879,  38],\n",
       "       [ 29,  54]])"
      ]
     },
     "execution_count": 249,
     "metadata": {},
     "output_type": "execute_result"
    }
   ],
   "source": [
    "# confusion matrix for 5 data set\n",
    "from sklearn.metrics import confusion_matrix\n",
    "confusion_matrix(y_test_5, y_test_5_pred) # actual vs predicted"
   ]
  },
  {
   "cell_type": "code",
   "execution_count": 250,
   "id": "15d57b61",
   "metadata": {},
   "outputs": [
    {
     "data": {
      "text/plain": [
       "array([[885,  11],\n",
       "       [ 12,  92]])"
      ]
     },
     "execution_count": 250,
     "metadata": {},
     "output_type": "execute_result"
    }
   ],
   "source": [
    "# confusion matrix for 6 data set\n",
    "y_test_6_pred = cross_val_predict(sgd_6, X_test_sample, y_test_6, cv=3)\n",
    "confusion_matrix(y_test_6, y_test_6_pred) # actual vs predicted"
   ]
  },
  {
   "cell_type": "code",
   "execution_count": 251,
   "id": "af725e9a",
   "metadata": {},
   "outputs": [
    {
     "data": {
      "image/png": "[encoded data removed]",
      "text/plain": [
       "<Figure size 432x288 with 1 Axes>"
      ]
     },
     "metadata": {
      "needs_background": "light"
     },
     "output_type": "display_data"
    }
   ],
   "source": [
    "# ROC curve for 5 data set\n",
    "from sklearn.metrics import roc_curve\n",
    "y_test_5_pred_scores = cross_val_predict(sgd_5, X_test_sample, y_test_5, cv=3, method = \"decision_function\")\n",
    "fpr5, tpr5, thresholds5 = roc_curve(y_test_5, y_test_5_pred_scores)\n",
    "plt.plot(fpr5, tpr5)\n",
    "plt.show()"
   ]
  },
  {
   "cell_type": "code",
   "execution_count": 252,
   "id": "f6f9e7b5",
   "metadata": {},
   "outputs": [
    {
     "data": {
      "image/png": "[encoded data removed]",
      "text/plain": [
       "<Figure size 432x288 with 1 Axes>"
      ]
     },
     "metadata": {
      "needs_background": "light"
     },
     "output_type": "display_data"
    }
   ],
   "source": [
    "# ROC curve for 6 data set\n",
    "from sklearn.metrics import roc_curve\n",
    "y_test_6_pred_scores = cross_val_predict(sgd_6, X_test_sample, y_test_6, cv=3, method = \"decision_function\")\n",
    "fpr6, tpr6, thresholds6 = roc_curve(y_test_6, y_test_6_pred_scores)\n",
    "plt.plot(fpr6, tpr6)\n",
    "plt.show()"
   ]
  },
  {
   "cell_type": "markdown",
   "id": "c7e5d90b",
   "metadata": {},
   "source": [
    "Inference : From the two above models we can say that the ROC curve for the test day with predict =6 performed well ."
   ]
  },
  {
   "cell_type": "markdown",
   "id": "6718a9df",
   "metadata": {},
   "source": [
    "# Question 3"
   ]
  },
  {
   "cell_type": "code",
   "execution_count": 95,
   "id": "20fa7998",
   "metadata": {},
   "outputs": [],
   "source": [
    "# importing the data and setting noise as 4\n",
    "import numpy as np\n",
    "m = 50 # number of data points\n",
    "x = 6 * np.random.rand(m,1) - 3\n",
    "y = 4*(x**2) + 3*x + 2 + 4*np.random.randn(m,1)"
   ]
  },
  {
   "cell_type": "code",
   "execution_count": 96,
   "id": "549e209e",
   "metadata": {},
   "outputs": [
    {
     "name": "stdout",
     "output_type": "stream",
     "text": [
      "<class 'numpy.ndarray'> 2 (50, 1) <class 'numpy.ndarray'> 2 (50, 1)\n",
      "[[-1.31693438]\n",
      " [ 0.85314461]\n",
      " [ 2.42504895]]\n",
      "[[ 6.85564138]\n",
      " [ 2.60931079]\n",
      " [31.34213901]]\n"
     ]
    }
   ],
   "source": [
    "print(type(x), x.ndim, x.shape, type(y),y.ndim, y.shape)\n",
    "print(x[:3])\n",
    "print(y[:3])"
   ]
  },
  {
   "cell_type": "code",
   "execution_count": 97,
   "id": "3c7d6968",
   "metadata": {},
   "outputs": [
    {
     "data": {
      "image/png": "[encoded data removed]",
      "text/plain": [
       "<Figure size 432x288 with 1 Axes>"
      ]
     },
     "metadata": {
      "needs_background": "light"
     },
     "output_type": "display_data"
    }
   ],
   "source": [
    "# scatter plot for x and y \n",
    "import matplotlib\n",
    "import matplotlib.pyplot as plt\n",
    "plt.scatter(x,y)\n",
    "plt.show()"
   ]
  },
  {
   "cell_type": "code",
   "execution_count": 98,
   "id": "cc12a925",
   "metadata": {},
   "outputs": [
    {
     "name": "stdout",
     "output_type": "stream",
     "text": [
      "(40, 1) (40, 1) (10, 1) (10, 1)\n"
     ]
    }
   ],
   "source": [
    "# test and train data\n",
    "from sklearn.model_selection import train_test_split\n",
    "x_train, x_test, y_train, y_test = train_test_split(x, y, test_size=0.2)\n",
    "print(x_train.shape, y_train.shape, x_test.shape, y_test.shape)"
   ]
  },
  {
   "cell_type": "code",
   "execution_count": 100,
   "id": "e4a6b9df",
   "metadata": {},
   "outputs": [
    {
     "name": "stdout",
     "output_type": "stream",
     "text": [
      "[15.04816495] [[3.11308625]]\n"
     ]
    }
   ],
   "source": [
    "# linear regression \n",
    "from sklearn.linear_model import LinearRegression\n",
    "lin_reg = LinearRegression()\n",
    "lin_reg.fit(x_train, y_train)\n",
    "print(lin_reg.intercept_, lin_reg.coef_)"
   ]
  },
  {
   "cell_type": "code",
   "execution_count": 101,
   "id": "f5a278d6",
   "metadata": {},
   "outputs": [
    {
     "name": "stdout",
     "output_type": "stream",
     "text": [
      "[-1.31693438] [-1.31693438  1.73431615]\n",
      "(50, 1) (50, 2)\n"
     ]
    }
   ],
   "source": [
    "\n",
    "\n",
    "from sklearn.preprocessing import PolynomialFeatures\n",
    "num_degrees = 2\n",
    "poly_features = PolynomialFeatures(degree=num_degrees, include_bias=False)\n",
    "x_poly = poly_features.fit_transform(x)\n",
    "print(x[0], x_poly[0])\n",
    "print(x.shape, x_poly.shape)"
   ]
  },
  {
   "cell_type": "code",
   "execution_count": 102,
   "id": "b98c4ad1",
   "metadata": {},
   "outputs": [
    {
     "name": "stdout",
     "output_type": "stream",
     "text": [
      "[1.73326078] [[2.78764596 4.12680872]]\n",
      "Mean Squared Error on Test:  14.315251182176421\n"
     ]
    },
    {
     "data": {
      "image/png": "[encoded data removed]",
      "text/plain": [
       "<Figure size 432x288 with 1 Axes>"
      ]
     },
     "metadata": {
      "needs_background": "light"
     },
     "output_type": "display_data"
    }
   ],
   "source": [
    "\n",
    "# calculating mean square error on test\n",
    "x_train, x_test, y_train, y_test = train_test_split(x_poly, y, test_size=0.2)\n",
    "lin_reg = LinearRegression()\n",
    "lin_reg.fit(x_train, y_train)\n",
    "print(lin_reg.intercept_, lin_reg.coef_)\n",
    "y_predict = lin_reg.predict(x_test)\n",
    "mse = mean_squared_error(y_test,y_predict)\n",
    "print(\"Mean Squared Error on Test: \", mse)\n",
    "\n",
    "order = x_test[:,0].argsort()\n",
    "x_test = x_test[order]\n",
    "ys = y_predict[order]\n",
    "truey = y_test[order]\n",
    "xs = x_test[:,:-(num_degrees-1)]\n",
    "\n",
    "plt.plot(xs,ys,\"r-\")\n",
    "plt.scatter(xs, truey, color='blue')\n",
    "plt.show()"
   ]
  },
  {
   "cell_type": "code",
   "execution_count": 106,
   "id": "f4381eb9",
   "metadata": {},
   "outputs": [
    {
     "name": "stdout",
     "output_type": "stream",
     "text": [
      "Mean Squared Error on Test:  13.478846226647894\n",
      "[1.91182017] [2.63022138 4.06736097]\n"
     ]
    },
    {
     "data": {
      "image/png": "[encoded data removed]",
      "text/plain": [
       "<Figure size 432x288 with 1 Axes>"
      ]
     },
     "metadata": {
      "needs_background": "light"
     },
     "output_type": "display_data"
    }
   ],
   "source": [
    "# calculating mean square error with lasso and setting the lasso alpha value.\n",
    "from sklearn.linear_model import Lasso\n",
    "lasso_reg = Lasso(alpha=0.5)\n",
    "lasso_reg.fit(x_train, y_train)\n",
    "y_predict = lasso_reg.predict(x_test)\n",
    "mse = mean_squared_error(truey,y_predict)\n",
    "print(\"Mean Squared Error on Test: \", mse)\n",
    "print(lasso_reg.intercept_, lasso_reg.coef_)\n",
    "\n",
    "plt.plot(xs,y_predict,\"r-\")\n",
    "plt.scatter(xs, truey, color='blue')\n",
    "plt.show()"
   ]
  },
  {
   "cell_type": "markdown",
   "id": "e4b0d9f3",
   "metadata": {},
   "source": [
    "Inference : The regularized Lasso regression model has less Mean Squared Error compared to linear regression and has  better performance."
   ]
  },
  {
   "cell_type": "code",
   "execution_count": null,
   "id": "7a62dcb3",
   "metadata": {},
   "outputs": [],
   "source": []
  }
 ],
 "metadata": {
  "kernelspec": {
   "display_name": "Python 3",
   "language": "python",
   "name": "python3"
  },
  "language_info": {
   "codemirror_mode": {
    "name": "ipython",
    "version": 3
   },
   "file_extension": ".py",
   "mimetype": "text/x-python",
   "name": "python",
   "nbconvert_exporter": "python",
   "pygments_lexer": "ipython3",
   "version": "3.8.8"
  }
 },
 "nbformat": 4,
 "nbformat_minor": 5
}
